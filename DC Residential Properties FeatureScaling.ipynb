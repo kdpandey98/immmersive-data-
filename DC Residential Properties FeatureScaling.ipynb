{
 "cells": [
  {
   "cell_type": "markdown",
   "metadata": {},
   "source": [
    "## DC Residential Feature Scaling\n",
    "#### Kiran Pandey May 5, 2019\n",
    "\n",
    "Re-scale the \"price\" column from the D.C. Residential Properties dataset (Kaggle) using z-score standardization and Min-max scaling.\n",
    "\n",
    "source input: https://www.kaggle.com/christophercorrea/dc-residential-properties\n",
    "\n",
    "ooutput : dataframe wirg alternate z-scores"
   ]
  },
  {
   "cell_type": "markdown",
   "metadata": {},
   "source": [
    "### Libararies used"
   ]
  },
  {
   "cell_type": "code",
   "execution_count": 1,
   "metadata": {},
   "outputs": [],
   "source": [
    "import pandas as pd\n",
    "\n",
    "#preprocessing functions will be used to standardize/normalize data\n",
    "from sklearn import preprocessing\n",
    "from sklearn.preprocessing import StandardScaler\n",
    "from sklearn.preprocessing import MinMaxScaler\n",
    "\n",
    "%matplotlib inline"
   ]
  },
  {
   "cell_type": "code",
   "execution_count": 2,
   "metadata": {},
   "outputs": [
    {
     "name": "stderr",
     "output_type": "stream",
     "text": [
      "C:\\Users\\kdpan\\Anaconda3\\lib\\site-packages\\IPython\\core\\interactiveshell.py:3020: DtypeWarning: Columns (18,19,20,21,22,23,24,33,34,35,37,43,45) have mixed types. Specify dtype option on import or set low_memory=False.\n",
      "  interactivity=interactivity, compiler=compiler, result=result)\n"
     ]
    }
   ],
   "source": [
    "# load data\n",
    "filepath = \"../datasets/DC_Properties.csv\"\n",
    "dcp_df = pd.read_csv(filepath)"
   ]
  },
  {
   "cell_type": "code",
   "execution_count": 3,
   "metadata": {},
   "outputs": [
    {
     "name": "stdout",
     "output_type": "stream",
     "text": [
      "(158957, 49)\n",
      "Index(['Unnamed: 0', 'BATHRM', 'HF_BATHRM', 'HEAT', 'AC', 'NUM_UNITS', 'ROOMS',\n",
      "       'BEDRM', 'AYB', 'YR_RMDL', 'EYB', 'STORIES', 'SALEDATE', 'PRICE',\n",
      "       'QUALIFIED', 'SALE_NUM', 'GBA', 'BLDG_NUM', 'STYLE', 'STRUCT', 'GRADE',\n",
      "       'CNDTN', 'EXTWALL', 'ROOF', 'INTWALL', 'KITCHENS', 'FIREPLACES',\n",
      "       'USECODE', 'LANDAREA', 'GIS_LAST_MOD_DTTM', 'SOURCE', 'CMPLX_NUM',\n",
      "       'LIVING_GBA', 'FULLADDRESS', 'CITY', 'STATE', 'ZIPCODE', 'NATIONALGRID',\n",
      "       'LATITUDE', 'LONGITUDE', 'ASSESSMENT_NBHD', 'ASSESSMENT_SUBNBHD',\n",
      "       'CENSUS_TRACT', 'CENSUS_BLOCK', 'WARD', 'SQUARE', 'X', 'Y', 'QUADRANT'],\n",
      "      dtype='object')\n",
      "                 count           mean           std           min  \\\n",
      "Unnamed: 0    158957.0   79478.000000  4.588708e+04      0.000000   \n",
      "BATHRM        158957.0       1.810678  9.763960e-01      0.000000   \n",
      "HF_BATHRM     158957.0       0.458237  5.875715e-01      0.000000   \n",
      "NUM_UNITS     106696.0       1.198039  5.969244e-01      0.000000   \n",
      "ROOMS         158957.0       6.187736  2.618165e+00      0.000000   \n",
      "BEDRM         158957.0       2.732506  1.358864e+00      0.000000   \n",
      "AYB           158686.0    1941.987579  3.364023e+01   1754.000000   \n",
      "YR_RMDL        80928.0    1998.243537  1.657579e+01     20.000000   \n",
      "EYB           158957.0    1963.718024  2.492315e+01   1800.000000   \n",
      "STORIES       106652.0       2.091793  2.933323e+00      0.000000   \n",
      "PRICE          98216.0  931351.594934  7.061325e+06      1.000000   \n",
      "SALE_NUM      158957.0       1.680033  1.285898e+00      1.000000   \n",
      "GBA           106696.0    1714.539889  8.806779e+02      0.000000   \n",
      "BLDG_NUM      158957.0       1.000598  3.162151e-02      1.000000   \n",
      "KITCHENS      106695.0       1.219251  6.211696e-01      0.000000   \n",
      "FIREPLACES    158957.0       2.374674  7.372956e+02      0.000000   \n",
      "USECODE       158957.0      14.252999  3.725736e+00     11.000000   \n",
      "LANDAREA      158957.0    2473.282158  5.059046e+03      0.000000   \n",
      "CMPLX_NUM      52261.0    2371.544249  1.114272e+03   1001.000000   \n",
      "LIVING_GBA     52261.0     888.834542  4.201858e+02      0.000000   \n",
      "ZIPCODE       158956.0   20012.694563  1.562708e+01  20001.000000   \n",
      "LATITUDE      158956.0      38.914854  3.172262e-02     38.819731   \n",
      "LONGITUDE     158956.0     -77.016676  4.093841e-02    -77.113909   \n",
      "CENSUS_TRACT  158956.0    5348.216324  3.369646e+03    100.000000   \n",
      "X             158720.0     -77.016712  4.093319e-02    -77.113135   \n",
      "Y             158720.0      38.914846  3.168182e-02     38.820576   \n",
      "\n",
      "                        25%            50%            75%           max  \n",
      "Unnamed: 0     39739.000000   79478.000000  119217.000000  1.589560e+05  \n",
      "BATHRM             1.000000       2.000000       2.000000  1.400000e+01  \n",
      "HF_BATHRM          0.000000       0.000000       1.000000  1.100000e+01  \n",
      "NUM_UNITS          1.000000       1.000000       1.000000  6.000000e+00  \n",
      "ROOMS              4.000000       6.000000       7.000000  4.800000e+01  \n",
      "BEDRM              2.000000       3.000000       3.000000  2.400000e+01  \n",
      "AYB             1918.000000    1937.000000    1960.000000  2.019000e+03  \n",
      "YR_RMDL         1985.000000    2004.000000    2010.000000  2.019000e+03  \n",
      "EYB             1954.000000    1963.000000    1975.000000  2.018000e+03  \n",
      "STORIES            2.000000       2.000000       2.000000  8.260000e+02  \n",
      "PRICE         240000.000000  399999.000000  652000.000000  1.374275e+08  \n",
      "SALE_NUM           1.000000       1.000000       2.000000  1.500000e+01  \n",
      "GBA             1190.000000    1480.000000    1966.000000  4.538400e+04  \n",
      "BLDG_NUM           1.000000       1.000000       1.000000  5.000000e+00  \n",
      "KITCHENS           1.000000       1.000000       1.000000  4.400000e+01  \n",
      "FIREPLACES         0.000000       0.000000       1.000000  2.939200e+05  \n",
      "USECODE           11.000000      13.000000      17.000000  1.170000e+02  \n",
      "LANDAREA         697.000000    1649.000000    3000.000000  9.426320e+05  \n",
      "CMPLX_NUM       1501.000000    2265.000000    2910.000000  5.621000e+03  \n",
      "LIVING_GBA       616.000000     783.000000    1060.000000  8.553000e+03  \n",
      "ZIPCODE        20007.000000   20011.000000   20018.000000  2.039200e+04  \n",
      "LATITUDE          38.895425      38.915337      38.936075  3.899554e+01  \n",
      "LONGITUDE        -77.042892     -77.019596     -76.988626 -7.690976e+01  \n",
      "CENSUS_TRACT    2102.000000    5201.000000    8302.000000  1.110000e+04  \n",
      "X                -77.042894     -77.019581     -76.988842 -7.691051e+01  \n",
      "Y                 38.895432      38.915229      38.936077  3.899365e+01  \n",
      "   Unnamed: 0  BATHRM  HF_BATHRM           HEAT AC  NUM_UNITS  ROOMS  BEDRM  \\\n",
      "0           0       4          0      Warm Cool  Y        2.0      8      4   \n",
      "1           1       3          1      Warm Cool  Y        2.0     11      5   \n",
      "2           2       3          1  Hot Water Rad  Y        2.0      9      5   \n",
      "3           3       3          1  Hot Water Rad  Y        2.0      8      5   \n",
      "4           4       2          1      Warm Cool  Y        1.0     11      3   \n",
      "\n",
      "      AYB  YR_RMDL   ...     LONGITUDE  ASSESSMENT_NBHD ASSESSMENT_SUBNBHD  \\\n",
      "0  1910.0   1988.0   ...    -77.040832       Old City 2   040 D Old City 2   \n",
      "1  1898.0   2007.0   ...    -77.040764       Old City 2   040 D Old City 2   \n",
      "2  1910.0   2009.0   ...    -77.040678       Old City 2   040 D Old City 2   \n",
      "3  1900.0   2003.0   ...    -77.040629       Old City 2   040 D Old City 2   \n",
      "4  1913.0   2012.0   ...    -77.039361       Old City 2   040 D Old City 2   \n",
      "\n",
      "   CENSUS_TRACT CENSUS_BLOCK    WARD  SQUARE          X          Y QUADRANT  \n",
      "0        4201.0  004201 2006  Ward 2     152 -77.040429  38.914881       NW  \n",
      "1        4201.0  004201 2006  Ward 2     152 -77.040429  38.914881       NW  \n",
      "2        4201.0  004201 2006  Ward 2     152 -77.040429  38.914881       NW  \n",
      "3        4201.0  004201 2006  Ward 2     152 -77.040429  38.914881       NW  \n",
      "4        4201.0  004201 2006  Ward 2     152 -77.040429  38.914881       NW  \n",
      "\n",
      "[5 rows x 49 columns]\n"
     ]
    }
   ],
   "source": [
    "#check if any missing values in the data\n",
    "print(dcp_df.shape)\n",
    "print(dcp_df.columns)\n",
    "print(dcp_df.describe().T)\n",
    "print(dcp_df.head())"
   ]
  },
  {
   "cell_type": "code",
   "execution_count": 4,
   "metadata": {},
   "outputs": [],
   "source": [
    "sel_col = ['PRICE', 'BEDRM', 'BATHRM', 'LIVING_GBA', 'LANDAREA', 'FIREPLACES', 'KITCHENS', 'USECODE']\n",
    "sel_col1 = ['PRICE1', 'BEDRM1', 'BATHRM1', 'LIVING_GBA1', 'LANDAREA1', 'FIREPLACES1', 'KITCHENS1', 'USECODE1']\n",
    "sel_col2 = ['PRICE2', 'BEDRM2', 'BATHRM2', 'LIVING_GBA2', 'LANDAREA2', 'FIREPLACES2', 'KITCHENS2', 'USECODE2']\n",
    "sel_col3 = ['PRICE3', 'BEDRM3', 'BATHRM3', 'LIVING_GBA3', 'LANDAREA3', 'FIREPLACES3', 'KITCHENS3', 'USECODE3']"
   ]
  },
  {
   "cell_type": "code",
   "execution_count": 5,
   "metadata": {},
   "outputs": [
    {
     "data": {
      "text/plain": [
       "array([[<matplotlib.axes._subplots.AxesSubplot object at 0x000001C17E403668>,\n",
       "        <matplotlib.axes._subplots.AxesSubplot object at 0x000001C17379F2B0>,\n",
       "        <matplotlib.axes._subplots.AxesSubplot object at 0x000001C173809518>],\n",
       "       [<matplotlib.axes._subplots.AxesSubplot object at 0x000001C173832780>,\n",
       "        <matplotlib.axes._subplots.AxesSubplot object at 0x000001C17385B9E8>,\n",
       "        <matplotlib.axes._subplots.AxesSubplot object at 0x000001C173883C18>],\n",
       "       [<matplotlib.axes._subplots.AxesSubplot object at 0x000001C1738ADE80>,\n",
       "        <matplotlib.axes._subplots.AxesSubplot object at 0x000001C1738DF160>,\n",
       "        <matplotlib.axes._subplots.AxesSubplot object at 0x000001C1738DF198>]],\n",
       "      dtype=object)"
      ]
     },
     "execution_count": 5,
     "metadata": {},
     "output_type": "execute_result"
    },
    {
     "data": {
      "image/png": "[encoded data removed]",
      "text/plain": [
       "<Figure size 720x720 with 9 Axes>"
      ]
     },
     "metadata": {
      "needs_background": "light"
     },
     "output_type": "display_data"
    }
   ],
   "source": [
    "# frequency count for each column\n",
    "dcp_df[sel_col].hist(figsize=(10,10))"
   ]
  },
  {
   "cell_type": "code",
   "execution_count": 6,
   "metadata": {},
   "outputs": [
    {
     "data": {
      "text/plain": [
       "array([[<matplotlib.axes._subplots.AxesSubplot object at 0x000001C173A943C8>,\n",
       "        <matplotlib.axes._subplots.AxesSubplot object at 0x000001C1748C2F60>,\n",
       "        <matplotlib.axes._subplots.AxesSubplot object at 0x000001C1745690B8>],\n",
       "       [<matplotlib.axes._subplots.AxesSubplot object at 0x000001C1745911D0>,\n",
       "        <matplotlib.axes._subplots.AxesSubplot object at 0x000001C1745BB2E8>,\n",
       "        <matplotlib.axes._subplots.AxesSubplot object at 0x000001C1745E6400>],\n",
       "       [<matplotlib.axes._subplots.AxesSubplot object at 0x000001C17460F518>,\n",
       "        <matplotlib.axes._subplots.AxesSubplot object at 0x000001C174638668>,\n",
       "        <matplotlib.axes._subplots.AxesSubplot object at 0x000001C1746386A0>]],\n",
       "      dtype=object)"
      ]
     },
     "execution_count": 6,
     "metadata": {},
     "output_type": "execute_result"
    },
    {
     "data": {
      "image/png": "[encoded data removed]",
      "text/plain": [
       "<Figure size 720x720 with 9 Axes>"
      ]
     },
     "metadata": {
      "needs_background": "light"
     },
     "output_type": "display_data"
    }
   ],
   "source": [
    "# frequency count of each colu, using a uniform scale \n",
    "dcp_df[sel_col].hist(figsize=(10,10), sharex=True)"
   ]
  },
  {
   "cell_type": "markdown",
   "metadata": {},
   "source": [
    "### Method 1: Scaling manually -- Z-score Standardization\n",
    "\n",
    "Z-score standardization is the process of converting the data to have a mean of 0 and a standard deviation of 1. The z-score is calculcated by subtracting the mean for a feature (column) by each data point value and dividing by the standard deviation.\n",
    "### \\begin{align}  z = \\frac{(value - mean)}{std dev} \\end{align}"
   ]
  },
  {
   "cell_type": "code",
   "execution_count": 7,
   "metadata": {},
   "outputs": [
    {
     "data": {
      "text/html": [
       "<div>\n",
       "<style scoped>\n",
       "    .dataframe tbody tr th:only-of-type {\n",
       "        vertical-align: middle;\n",
       "    }\n",
       "\n",
       "    .dataframe tbody tr th {\n",
       "        vertical-align: top;\n",
       "    }\n",
       "\n",
       "    .dataframe thead th {\n",
       "        text-align: right;\n",
       "    }\n",
       "</style>\n",
       "<table border=\"1\" class=\"dataframe\">\n",
       "  <thead>\n",
       "    <tr style=\"text-align: right;\">\n",
       "      <th></th>\n",
       "      <th>PRICE</th>\n",
       "      <th>BEDRM</th>\n",
       "      <th>BATHRM</th>\n",
       "      <th>LIVING_GBA</th>\n",
       "      <th>LANDAREA</th>\n",
       "      <th>FIREPLACES</th>\n",
       "      <th>KITCHENS</th>\n",
       "      <th>USECODE</th>\n",
       "    </tr>\n",
       "  </thead>\n",
       "  <tbody>\n",
       "    <tr>\n",
       "      <th>count</th>\n",
       "      <td>9.821600e+04</td>\n",
       "      <td>158957.000000</td>\n",
       "      <td>158957.000000</td>\n",
       "      <td>52261.000000</td>\n",
       "      <td>158957.000000</td>\n",
       "      <td>158957.000000</td>\n",
       "      <td>106695.000000</td>\n",
       "      <td>158957.000000</td>\n",
       "    </tr>\n",
       "    <tr>\n",
       "      <th>mean</th>\n",
       "      <td>9.313516e+05</td>\n",
       "      <td>2.732506</td>\n",
       "      <td>1.810678</td>\n",
       "      <td>888.834542</td>\n",
       "      <td>2473.282158</td>\n",
       "      <td>2.374674</td>\n",
       "      <td>1.219251</td>\n",
       "      <td>14.252999</td>\n",
       "    </tr>\n",
       "    <tr>\n",
       "      <th>std</th>\n",
       "      <td>7.061325e+06</td>\n",
       "      <td>1.358864</td>\n",
       "      <td>0.976396</td>\n",
       "      <td>420.185822</td>\n",
       "      <td>5059.046023</td>\n",
       "      <td>737.295595</td>\n",
       "      <td>0.621170</td>\n",
       "      <td>3.725736</td>\n",
       "    </tr>\n",
       "    <tr>\n",
       "      <th>min</th>\n",
       "      <td>1.000000e+00</td>\n",
       "      <td>0.000000</td>\n",
       "      <td>0.000000</td>\n",
       "      <td>0.000000</td>\n",
       "      <td>0.000000</td>\n",
       "      <td>0.000000</td>\n",
       "      <td>0.000000</td>\n",
       "      <td>11.000000</td>\n",
       "    </tr>\n",
       "    <tr>\n",
       "      <th>25%</th>\n",
       "      <td>2.400000e+05</td>\n",
       "      <td>2.000000</td>\n",
       "      <td>1.000000</td>\n",
       "      <td>616.000000</td>\n",
       "      <td>697.000000</td>\n",
       "      <td>0.000000</td>\n",
       "      <td>1.000000</td>\n",
       "      <td>11.000000</td>\n",
       "    </tr>\n",
       "    <tr>\n",
       "      <th>50%</th>\n",
       "      <td>3.999990e+05</td>\n",
       "      <td>3.000000</td>\n",
       "      <td>2.000000</td>\n",
       "      <td>783.000000</td>\n",
       "      <td>1649.000000</td>\n",
       "      <td>0.000000</td>\n",
       "      <td>1.000000</td>\n",
       "      <td>13.000000</td>\n",
       "    </tr>\n",
       "    <tr>\n",
       "      <th>75%</th>\n",
       "      <td>6.520000e+05</td>\n",
       "      <td>3.000000</td>\n",
       "      <td>2.000000</td>\n",
       "      <td>1060.000000</td>\n",
       "      <td>3000.000000</td>\n",
       "      <td>1.000000</td>\n",
       "      <td>1.000000</td>\n",
       "      <td>17.000000</td>\n",
       "    </tr>\n",
       "    <tr>\n",
       "      <th>max</th>\n",
       "      <td>1.374275e+08</td>\n",
       "      <td>24.000000</td>\n",
       "      <td>14.000000</td>\n",
       "      <td>8553.000000</td>\n",
       "      <td>942632.000000</td>\n",
       "      <td>293920.000000</td>\n",
       "      <td>44.000000</td>\n",
       "      <td>117.000000</td>\n",
       "    </tr>\n",
       "  </tbody>\n",
       "</table>\n",
       "</div>"
      ],
      "text/plain": [
       "              PRICE          BEDRM         BATHRM    LIVING_GBA  \\\n",
       "count  9.821600e+04  158957.000000  158957.000000  52261.000000   \n",
       "mean   9.313516e+05       2.732506       1.810678    888.834542   \n",
       "std    7.061325e+06       1.358864       0.976396    420.185822   \n",
       "min    1.000000e+00       0.000000       0.000000      0.000000   \n",
       "25%    2.400000e+05       2.000000       1.000000    616.000000   \n",
       "50%    3.999990e+05       3.000000       2.000000    783.000000   \n",
       "75%    6.520000e+05       3.000000       2.000000   1060.000000   \n",
       "max    1.374275e+08      24.000000      14.000000   8553.000000   \n",
       "\n",
       "            LANDAREA     FIREPLACES       KITCHENS        USECODE  \n",
       "count  158957.000000  158957.000000  106695.000000  158957.000000  \n",
       "mean     2473.282158       2.374674       1.219251      14.252999  \n",
       "std      5059.046023     737.295595       0.621170       3.725736  \n",
       "min         0.000000       0.000000       0.000000      11.000000  \n",
       "25%       697.000000       0.000000       1.000000      11.000000  \n",
       "50%      1649.000000       0.000000       1.000000      13.000000  \n",
       "75%      3000.000000       1.000000       1.000000      17.000000  \n",
       "max    942632.000000  293920.000000      44.000000     117.000000  "
      ]
     },
     "execution_count": 7,
     "metadata": {},
     "output_type": "execute_result"
    }
   ],
   "source": [
    "dcp_df[sel_col].describe()"
   ]
  },
  {
   "cell_type": "code",
   "execution_count": 8,
   "metadata": {},
   "outputs": [],
   "source": [
    "#Method 1: manual (vectorized) calculation of z-scores for selected columns column\n",
    "mean1 = dcp_df[sel_col].mean()\n",
    "std1 = dcp_df[sel_col].std()\n",
    "dcp_df[sel_col1] = (dcp_df[sel_col] - mean1)/std1"
   ]
  },
  {
   "cell_type": "code",
   "execution_count": 9,
   "metadata": {},
   "outputs": [
    {
     "name": "stdout",
     "output_type": "stream",
     "text": [
      "mean1: \n",
      " PRICE         931351.594934\n",
      "BEDRM              2.732506\n",
      "BATHRM             1.810678\n",
      "LIVING_GBA       888.834542\n",
      "LANDAREA        2473.282158\n",
      "FIREPLACES         2.374674\n",
      "KITCHENS           1.219251\n",
      "USECODE           14.252999\n",
      "dtype: float64 std1: \n",
      " PRICE         7.061325e+06\n",
      "BEDRM         1.358864e+00\n",
      "BATHRM        9.763960e-01\n",
      "LIVING_GBA    4.201858e+02\n",
      "LANDAREA      5.059046e+03\n",
      "FIREPLACES    7.372956e+02\n",
      "KITCHENS      6.211696e-01\n",
      "USECODE       3.725736e+00\n",
      "dtype: float64\n"
     ]
    }
   ],
   "source": [
    "#values for mean and standard deviation of selected columns\n",
    "print ('mean1: \\n', mean1, 'std1: \\n', std1)"
   ]
  },
  {
   "cell_type": "code",
   "execution_count": 10,
   "metadata": {},
   "outputs": [],
   "source": [
    "sel_col.extend(sel_col1)"
   ]
  },
  {
   "cell_type": "code",
   "execution_count": 11,
   "metadata": {},
   "outputs": [
    {
     "data": {
      "text/plain": [
       "['BATHRM',\n",
       " 'BATHRM1',\n",
       " 'BEDRM',\n",
       " 'BEDRM1',\n",
       " 'FIREPLACES',\n",
       " 'FIREPLACES1',\n",
       " 'KITCHENS',\n",
       " 'KITCHENS1',\n",
       " 'LANDAREA',\n",
       " 'LANDAREA1',\n",
       " 'LIVING_GBA',\n",
       " 'LIVING_GBA1',\n",
       " 'PRICE',\n",
       " 'PRICE1',\n",
       " 'USECODE',\n",
       " 'USECODE1']"
      ]
     },
     "execution_count": 11,
     "metadata": {},
     "output_type": "execute_result"
    }
   ],
   "source": [
    "sel_col.sort()\n",
    "sel_col"
   ]
  },
  {
   "cell_type": "code",
   "execution_count": 12,
   "metadata": {},
   "outputs": [
    {
     "data": {
      "text/html": [
       "<div>\n",
       "<style scoped>\n",
       "    .dataframe tbody tr th:only-of-type {\n",
       "        vertical-align: middle;\n",
       "    }\n",
       "\n",
       "    .dataframe tbody tr th {\n",
       "        vertical-align: top;\n",
       "    }\n",
       "\n",
       "    .dataframe thead th {\n",
       "        text-align: right;\n",
       "    }\n",
       "</style>\n",
       "<table border=\"1\" class=\"dataframe\">\n",
       "  <thead>\n",
       "    <tr style=\"text-align: right;\">\n",
       "      <th></th>\n",
       "      <th>count</th>\n",
       "      <th>mean</th>\n",
       "      <th>std</th>\n",
       "      <th>min</th>\n",
       "      <th>25%</th>\n",
       "      <th>50%</th>\n",
       "      <th>75%</th>\n",
       "      <th>max</th>\n",
       "    </tr>\n",
       "  </thead>\n",
       "  <tbody>\n",
       "    <tr>\n",
       "      <th>BATHRM</th>\n",
       "      <td>158957.0</td>\n",
       "      <td>1.810678e+00</td>\n",
       "      <td>9.763960e-01</td>\n",
       "      <td>0.000000</td>\n",
       "      <td>1.000000</td>\n",
       "      <td>2.000000</td>\n",
       "      <td>2.000000</td>\n",
       "      <td>1.400000e+01</td>\n",
       "    </tr>\n",
       "    <tr>\n",
       "      <th>BATHRM1</th>\n",
       "      <td>158957.0</td>\n",
       "      <td>-2.530007e-13</td>\n",
       "      <td>1.000000e+00</td>\n",
       "      <td>-1.854451</td>\n",
       "      <td>-0.830276</td>\n",
       "      <td>0.193898</td>\n",
       "      <td>0.193898</td>\n",
       "      <td>1.248399e+01</td>\n",
       "    </tr>\n",
       "    <tr>\n",
       "      <th>BEDRM</th>\n",
       "      <td>158957.0</td>\n",
       "      <td>2.732506e+00</td>\n",
       "      <td>1.358864e+00</td>\n",
       "      <td>0.000000</td>\n",
       "      <td>2.000000</td>\n",
       "      <td>3.000000</td>\n",
       "      <td>3.000000</td>\n",
       "      <td>2.400000e+01</td>\n",
       "    </tr>\n",
       "    <tr>\n",
       "      <th>BEDRM1</th>\n",
       "      <td>158957.0</td>\n",
       "      <td>5.054997e-13</td>\n",
       "      <td>1.000000e+00</td>\n",
       "      <td>-2.010875</td>\n",
       "      <td>-0.539058</td>\n",
       "      <td>0.196851</td>\n",
       "      <td>0.196851</td>\n",
       "      <td>1.565093e+01</td>\n",
       "    </tr>\n",
       "    <tr>\n",
       "      <th>FIREPLACES</th>\n",
       "      <td>158957.0</td>\n",
       "      <td>2.374674e+00</td>\n",
       "      <td>7.372956e+02</td>\n",
       "      <td>0.000000</td>\n",
       "      <td>0.000000</td>\n",
       "      <td>0.000000</td>\n",
       "      <td>1.000000</td>\n",
       "      <td>2.939200e+05</td>\n",
       "    </tr>\n",
       "    <tr>\n",
       "      <th>FIREPLACES1</th>\n",
       "      <td>158957.0</td>\n",
       "      <td>-3.217374e-16</td>\n",
       "      <td>1.000000e+00</td>\n",
       "      <td>-0.003221</td>\n",
       "      <td>-0.003221</td>\n",
       "      <td>-0.003221</td>\n",
       "      <td>-0.001864</td>\n",
       "      <td>3.986429e+02</td>\n",
       "    </tr>\n",
       "    <tr>\n",
       "      <th>KITCHENS</th>\n",
       "      <td>106695.0</td>\n",
       "      <td>1.219251e+00</td>\n",
       "      <td>6.211696e-01</td>\n",
       "      <td>0.000000</td>\n",
       "      <td>1.000000</td>\n",
       "      <td>1.000000</td>\n",
       "      <td>1.000000</td>\n",
       "      <td>4.400000e+01</td>\n",
       "    </tr>\n",
       "    <tr>\n",
       "      <th>KITCHENS1</th>\n",
       "      <td>106695.0</td>\n",
       "      <td>-2.837164e-14</td>\n",
       "      <td>1.000000e+00</td>\n",
       "      <td>-1.962831</td>\n",
       "      <td>-0.352965</td>\n",
       "      <td>-0.352965</td>\n",
       "      <td>-0.352965</td>\n",
       "      <td>6.887129e+01</td>\n",
       "    </tr>\n",
       "    <tr>\n",
       "      <th>LANDAREA</th>\n",
       "      <td>158957.0</td>\n",
       "      <td>2.473282e+03</td>\n",
       "      <td>5.059046e+03</td>\n",
       "      <td>0.000000</td>\n",
       "      <td>697.000000</td>\n",
       "      <td>1649.000000</td>\n",
       "      <td>3000.000000</td>\n",
       "      <td>9.426320e+05</td>\n",
       "    </tr>\n",
       "    <tr>\n",
       "      <th>LANDAREA1</th>\n",
       "      <td>158957.0</td>\n",
       "      <td>3.279473e-16</td>\n",
       "      <td>1.000000e+00</td>\n",
       "      <td>-0.488883</td>\n",
       "      <td>-0.351110</td>\n",
       "      <td>-0.162932</td>\n",
       "      <td>0.104114</td>\n",
       "      <td>1.858372e+02</td>\n",
       "    </tr>\n",
       "    <tr>\n",
       "      <th>LIVING_GBA</th>\n",
       "      <td>52261.0</td>\n",
       "      <td>8.888345e+02</td>\n",
       "      <td>4.201858e+02</td>\n",
       "      <td>0.000000</td>\n",
       "      <td>616.000000</td>\n",
       "      <td>783.000000</td>\n",
       "      <td>1060.000000</td>\n",
       "      <td>8.553000e+03</td>\n",
       "    </tr>\n",
       "    <tr>\n",
       "      <th>LIVING_GBA1</th>\n",
       "      <td>52261.0</td>\n",
       "      <td>-1.002113e-16</td>\n",
       "      <td>1.000000e+00</td>\n",
       "      <td>-2.115337</td>\n",
       "      <td>-0.649319</td>\n",
       "      <td>-0.251876</td>\n",
       "      <td>0.407357</td>\n",
       "      <td>1.823994e+01</td>\n",
       "    </tr>\n",
       "    <tr>\n",
       "      <th>PRICE</th>\n",
       "      <td>98216.0</td>\n",
       "      <td>9.313516e+05</td>\n",
       "      <td>7.061325e+06</td>\n",
       "      <td>1.000000</td>\n",
       "      <td>240000.000000</td>\n",
       "      <td>399999.000000</td>\n",
       "      <td>652000.000000</td>\n",
       "      <td>1.374275e+08</td>\n",
       "    </tr>\n",
       "    <tr>\n",
       "      <th>PRICE1</th>\n",
       "      <td>98216.0</td>\n",
       "      <td>5.337655e-16</td>\n",
       "      <td>1.000000e+00</td>\n",
       "      <td>-0.131895</td>\n",
       "      <td>-0.097907</td>\n",
       "      <td>-0.075248</td>\n",
       "      <td>-0.039561</td>\n",
       "      <td>1.933011e+01</td>\n",
       "    </tr>\n",
       "    <tr>\n",
       "      <th>USECODE</th>\n",
       "      <td>158957.0</td>\n",
       "      <td>1.425300e+01</td>\n",
       "      <td>3.725736e+00</td>\n",
       "      <td>11.000000</td>\n",
       "      <td>11.000000</td>\n",
       "      <td>13.000000</td>\n",
       "      <td>17.000000</td>\n",
       "      <td>1.170000e+02</td>\n",
       "    </tr>\n",
       "    <tr>\n",
       "      <th>USECODE1</th>\n",
       "      <td>158957.0</td>\n",
       "      <td>-2.552134e-13</td>\n",
       "      <td>1.000000e+00</td>\n",
       "      <td>-0.873116</td>\n",
       "      <td>-0.873116</td>\n",
       "      <td>-0.336309</td>\n",
       "      <td>0.737304</td>\n",
       "      <td>2.757764e+01</td>\n",
       "    </tr>\n",
       "  </tbody>\n",
       "</table>\n",
       "</div>"
      ],
      "text/plain": [
       "                count          mean           std        min            25%  \\\n",
       "BATHRM       158957.0  1.810678e+00  9.763960e-01   0.000000       1.000000   \n",
       "BATHRM1      158957.0 -2.530007e-13  1.000000e+00  -1.854451      -0.830276   \n",
       "BEDRM        158957.0  2.732506e+00  1.358864e+00   0.000000       2.000000   \n",
       "BEDRM1       158957.0  5.054997e-13  1.000000e+00  -2.010875      -0.539058   \n",
       "FIREPLACES   158957.0  2.374674e+00  7.372956e+02   0.000000       0.000000   \n",
       "FIREPLACES1  158957.0 -3.217374e-16  1.000000e+00  -0.003221      -0.003221   \n",
       "KITCHENS     106695.0  1.219251e+00  6.211696e-01   0.000000       1.000000   \n",
       "KITCHENS1    106695.0 -2.837164e-14  1.000000e+00  -1.962831      -0.352965   \n",
       "LANDAREA     158957.0  2.473282e+03  5.059046e+03   0.000000     697.000000   \n",
       "LANDAREA1    158957.0  3.279473e-16  1.000000e+00  -0.488883      -0.351110   \n",
       "LIVING_GBA    52261.0  8.888345e+02  4.201858e+02   0.000000     616.000000   \n",
       "LIVING_GBA1   52261.0 -1.002113e-16  1.000000e+00  -2.115337      -0.649319   \n",
       "PRICE         98216.0  9.313516e+05  7.061325e+06   1.000000  240000.000000   \n",
       "PRICE1        98216.0  5.337655e-16  1.000000e+00  -0.131895      -0.097907   \n",
       "USECODE      158957.0  1.425300e+01  3.725736e+00  11.000000      11.000000   \n",
       "USECODE1     158957.0 -2.552134e-13  1.000000e+00  -0.873116      -0.873116   \n",
       "\n",
       "                       50%            75%           max  \n",
       "BATHRM            2.000000       2.000000  1.400000e+01  \n",
       "BATHRM1           0.193898       0.193898  1.248399e+01  \n",
       "BEDRM             3.000000       3.000000  2.400000e+01  \n",
       "BEDRM1            0.196851       0.196851  1.565093e+01  \n",
       "FIREPLACES        0.000000       1.000000  2.939200e+05  \n",
       "FIREPLACES1      -0.003221      -0.001864  3.986429e+02  \n",
       "KITCHENS          1.000000       1.000000  4.400000e+01  \n",
       "KITCHENS1        -0.352965      -0.352965  6.887129e+01  \n",
       "LANDAREA       1649.000000    3000.000000  9.426320e+05  \n",
       "LANDAREA1        -0.162932       0.104114  1.858372e+02  \n",
       "LIVING_GBA      783.000000    1060.000000  8.553000e+03  \n",
       "LIVING_GBA1      -0.251876       0.407357  1.823994e+01  \n",
       "PRICE        399999.000000  652000.000000  1.374275e+08  \n",
       "PRICE1           -0.075248      -0.039561  1.933011e+01  \n",
       "USECODE          13.000000      17.000000  1.170000e+02  \n",
       "USECODE1         -0.336309       0.737304  2.757764e+01  "
      ]
     },
     "execution_count": 12,
     "metadata": {},
     "output_type": "execute_result"
    }
   ],
   "source": [
    "dcp_df[sel_col].describe().T"
   ]
  },
  {
   "cell_type": "code",
   "execution_count": 13,
   "metadata": {},
   "outputs": [
    {
     "data": {
      "text/plain": [
       "(158957, 57)"
      ]
     },
     "execution_count": 13,
     "metadata": {},
     "output_type": "execute_result"
    }
   ],
   "source": [
    "dcp_df.shape"
   ]
  },
  {
   "cell_type": "code",
   "execution_count": 14,
   "metadata": {},
   "outputs": [
    {
     "data": {
      "text/plain": [
       "(98216, 57)"
      ]
     },
     "execution_count": 14,
     "metadata": {},
     "output_type": "execute_result"
    }
   ],
   "source": [
    "dcp_df.dropna(subset=['PRICE','PRICE1'],inplace=True)\n",
    "dcp_df.shape"
   ]
  },
  {
   "cell_type": "code",
   "execution_count": 15,
   "metadata": {},
   "outputs": [
    {
     "data": {
      "text/plain": [
       "BATHRM           int64\n",
       "BATHRM1        float64\n",
       "BEDRM            int64\n",
       "BEDRM1         float64\n",
       "FIREPLACES       int64\n",
       "FIREPLACES1    float64\n",
       "KITCHENS       float64\n",
       "KITCHENS1      float64\n",
       "LANDAREA         int64\n",
       "LANDAREA1      float64\n",
       "LIVING_GBA     float64\n",
       "LIVING_GBA1    float64\n",
       "PRICE          float64\n",
       "PRICE1         float64\n",
       "USECODE          int64\n",
       "USECODE1       float64\n",
       "dtype: object"
      ]
     },
     "execution_count": 15,
     "metadata": {},
     "output_type": "execute_result"
    }
   ],
   "source": [
    "dcp_df[sel_col].dtypes"
   ]
  },
  {
   "cell_type": "code",
   "execution_count": 16,
   "metadata": {},
   "outputs": [
    {
     "name": "stderr",
     "output_type": "stream",
     "text": [
      "C:\\Users\\kdpan\\Anaconda3\\lib\\site-packages\\sklearn\\preprocessing\\data.py:625: DataConversionWarning: Data with input dtype int64, float64 were all converted to float64 by StandardScaler.\n",
      "  return self.partial_fit(X, y)\n",
      "C:\\Users\\kdpan\\Anaconda3\\lib\\site-packages\\sklearn\\base.py:462: DataConversionWarning: Data with input dtype int64, float64 were all converted to float64 by StandardScaler.\n",
      "  return self.fit(X, **fit_params).transform(X)\n"
     ]
    },
    {
     "data": {
      "text/plain": [
       "array([[<matplotlib.axes._subplots.AxesSubplot object at 0x000001C174B02B38>,\n",
       "        <matplotlib.axes._subplots.AxesSubplot object at 0x000001C100005588>,\n",
       "        <matplotlib.axes._subplots.AxesSubplot object at 0x000001C1000176A0>,\n",
       "        <matplotlib.axes._subplots.AxesSubplot object at 0x000001C1000297B8>],\n",
       "       [<matplotlib.axes._subplots.AxesSubplot object at 0x000001C10003C8D0>,\n",
       "        <matplotlib.axes._subplots.AxesSubplot object at 0x000001C10004D940>,\n",
       "        <matplotlib.axes._subplots.AxesSubplot object at 0x000001C100060A58>,\n",
       "        <matplotlib.axes._subplots.AxesSubplot object at 0x000001C100070BA8>],\n",
       "       [<matplotlib.axes._subplots.AxesSubplot object at 0x000001C100070BE0>,\n",
       "        <matplotlib.axes._subplots.AxesSubplot object at 0x000001C100096DA0>,\n",
       "        <matplotlib.axes._subplots.AxesSubplot object at 0x000001C1000A8EB8>,\n",
       "        <matplotlib.axes._subplots.AxesSubplot object at 0x000001C1000BDFD0>],\n",
       "       [<matplotlib.axes._subplots.AxesSubplot object at 0x000001C1000D7128>,\n",
       "        <matplotlib.axes._subplots.AxesSubplot object at 0x000001C1000EC240>,\n",
       "        <matplotlib.axes._subplots.AxesSubplot object at 0x000001C100104358>,\n",
       "        <matplotlib.axes._subplots.AxesSubplot object at 0x000001C100122470>]],\n",
       "      dtype=object)"
      ]
     },
     "execution_count": 16,
     "metadata": {},
     "output_type": "execute_result"
    },
    {
     "data": {
      "image/png": "[encoded data removed]",
      "text/plain": [
       "<Figure size 720x720 with 16 Axes>"
      ]
     },
     "metadata": {
      "needs_background": "light"
     },
     "output_type": "display_data"
    }
   ],
   "source": [
    "#Method 2: use scikit-learn to calculate z-scores\n",
    "\n",
    "#set StandardScale function to a variable (easier to type)\n",
    "#scaler will use z-score formula on the column\n",
    "scaler = StandardScaler()\n",
    "\n",
    "#calculate z-scores for selected columns\n",
    "#fit_transform calculates the mean and std, and replaces any missing values w/ mean if needed\n",
    "\n",
    "dcp_zscore = pd.DataFrame(scaler.fit_transform(dcp_df[sel_col]), columns = sel_col)\n",
    "\n",
    "#plot frequency distribution with same scale range\n",
    "dcp_zscore.hist(figsize=(10,10), sharex=True)"
   ]
  },
  {
   "cell_type": "code",
   "execution_count": 17,
   "metadata": {},
   "outputs": [
    {
     "data": {
      "text/plain": [
       "(BATHRM        -9.223575e-14\n",
       " BATHRM1       -9.223553e-14\n",
       " BEDRM          2.728305e-13\n",
       " BEDRM1         2.728305e-13\n",
       " FIREPLACES    -1.150015e-15\n",
       " FIREPLACES1   -1.150592e-15\n",
       " KITCHENS       6.913584e-15\n",
       " KITCHENS1      6.913768e-15\n",
       " LANDAREA       7.968969e-15\n",
       " LANDAREA1      7.968971e-15\n",
       " LIVING_GBA    -4.689175e-17\n",
       " LIVING_GBA1   -8.204679e-17\n",
       " PRICE          3.048712e-16\n",
       " PRICE1         2.760754e-16\n",
       " USECODE        8.588517e-14\n",
       " USECODE1       8.588516e-14\n",
       " dtype: float64, BATHRM         1.000005\n",
       " BATHRM1        1.000005\n",
       " BEDRM          1.000005\n",
       " BEDRM1         1.000005\n",
       " FIREPLACES     1.000005\n",
       " FIREPLACES1    1.000005\n",
       " KITCHENS       1.000009\n",
       " KITCHENS1      1.000009\n",
       " LANDAREA       1.000005\n",
       " LANDAREA1      1.000005\n",
       " LIVING_GBA     1.000012\n",
       " LIVING_GBA1    1.000012\n",
       " PRICE          1.000005\n",
       " PRICE1         1.000005\n",
       " USECODE        1.000005\n",
       " USECODE1       1.000005\n",
       " dtype: float64)"
      ]
     },
     "execution_count": 17,
     "metadata": {},
     "output_type": "execute_result"
    }
   ],
   "source": [
    "#mean and standard deviation of z-score standardized column\n",
    "dcp_zscore.mean(), dcp_zscore.std()"
   ]
  },
  {
   "cell_type": "code",
   "execution_count": 18,
   "metadata": {},
   "outputs": [
    {
     "data": {
      "text/html": [
       "<div>\n",
       "<style scoped>\n",
       "    .dataframe tbody tr th:only-of-type {\n",
       "        vertical-align: middle;\n",
       "    }\n",
       "\n",
       "    .dataframe tbody tr th {\n",
       "        vertical-align: top;\n",
       "    }\n",
       "\n",
       "    .dataframe thead th {\n",
       "        text-align: right;\n",
       "    }\n",
       "</style>\n",
       "<table border=\"1\" class=\"dataframe\">\n",
       "  <thead>\n",
       "    <tr style=\"text-align: right;\">\n",
       "      <th></th>\n",
       "      <th>BATHRM</th>\n",
       "      <th>BATHRM1</th>\n",
       "      <th>BEDRM</th>\n",
       "      <th>BEDRM1</th>\n",
       "      <th>FIREPLACES</th>\n",
       "      <th>FIREPLACES1</th>\n",
       "      <th>KITCHENS</th>\n",
       "      <th>KITCHENS1</th>\n",
       "      <th>LANDAREA</th>\n",
       "      <th>LANDAREA1</th>\n",
       "      <th>LIVING_GBA</th>\n",
       "      <th>LIVING_GBA1</th>\n",
       "      <th>PRICE</th>\n",
       "      <th>PRICE1</th>\n",
       "      <th>USECODE</th>\n",
       "      <th>USECODE1</th>\n",
       "    </tr>\n",
       "  </thead>\n",
       "  <tbody>\n",
       "    <tr>\n",
       "      <th>0</th>\n",
       "      <td>2.188294</td>\n",
       "      <td>2.188294</td>\n",
       "      <td>0.999804</td>\n",
       "      <td>0.999804</td>\n",
       "      <td>0.001576</td>\n",
       "      <td>0.001576</td>\n",
       "      <td>1.132723</td>\n",
       "      <td>1.132723</td>\n",
       "      <td>-0.146197</td>\n",
       "      <td>-0.146197</td>\n",
       "      <td>NaN</td>\n",
       "      <td>NaN</td>\n",
       "      <td>0.023175</td>\n",
       "      <td>0.023175</td>\n",
       "      <td>2.548333</td>\n",
       "      <td>2.548333</td>\n",
       "    </tr>\n",
       "    <tr>\n",
       "      <th>1</th>\n",
       "      <td>1.166129</td>\n",
       "      <td>1.166129</td>\n",
       "      <td>1.717270</td>\n",
       "      <td>1.717270</td>\n",
       "      <td>0.000510</td>\n",
       "      <td>0.000510</td>\n",
       "      <td>1.132723</td>\n",
       "      <td>1.132723</td>\n",
       "      <td>-0.146197</td>\n",
       "      <td>-0.146197</td>\n",
       "      <td>NaN</td>\n",
       "      <td>NaN</td>\n",
       "      <td>0.165501</td>\n",
       "      <td>0.165501</td>\n",
       "      <td>2.548333</td>\n",
       "      <td>2.548333</td>\n",
       "    </tr>\n",
       "    <tr>\n",
       "      <th>2</th>\n",
       "      <td>1.166129</td>\n",
       "      <td>1.166129</td>\n",
       "      <td>1.717270</td>\n",
       "      <td>1.717270</td>\n",
       "      <td>-0.000556</td>\n",
       "      <td>-0.000556</td>\n",
       "      <td>1.132723</td>\n",
       "      <td>1.132723</td>\n",
       "      <td>-0.146197</td>\n",
       "      <td>-0.146197</td>\n",
       "      <td>NaN</td>\n",
       "      <td>NaN</td>\n",
       "      <td>0.094975</td>\n",
       "      <td>0.094975</td>\n",
       "      <td>2.548333</td>\n",
       "      <td>2.548333</td>\n",
       "    </tr>\n",
       "    <tr>\n",
       "      <th>3</th>\n",
       "      <td>1.166129</td>\n",
       "      <td>1.166129</td>\n",
       "      <td>1.717270</td>\n",
       "      <td>1.717270</td>\n",
       "      <td>0.000510</td>\n",
       "      <td>0.000510</td>\n",
       "      <td>-0.379394</td>\n",
       "      <td>-0.379394</td>\n",
       "      <td>0.040393</td>\n",
       "      <td>0.040393</td>\n",
       "      <td>NaN</td>\n",
       "      <td>NaN</td>\n",
       "      <td>0.144258</td>\n",
       "      <td>0.144258</td>\n",
       "      <td>-0.980986</td>\n",
       "      <td>-0.980986</td>\n",
       "    </tr>\n",
       "    <tr>\n",
       "      <th>4</th>\n",
       "      <td>1.166129</td>\n",
       "      <td>1.166129</td>\n",
       "      <td>0.999804</td>\n",
       "      <td>0.999804</td>\n",
       "      <td>-0.002689</td>\n",
       "      <td>-0.002689</td>\n",
       "      <td>1.132723</td>\n",
       "      <td>1.132723</td>\n",
       "      <td>-0.165363</td>\n",
       "      <td>-0.165363</td>\n",
       "      <td>NaN</td>\n",
       "      <td>NaN</td>\n",
       "      <td>0.016803</td>\n",
       "      <td>0.016803</td>\n",
       "      <td>2.548333</td>\n",
       "      <td>2.548333</td>\n",
       "    </tr>\n",
       "  </tbody>\n",
       "</table>\n",
       "</div>"
      ],
      "text/plain": [
       "     BATHRM   BATHRM1     BEDRM    BEDRM1  FIREPLACES  FIREPLACES1  KITCHENS  \\\n",
       "0  2.188294  2.188294  0.999804  0.999804    0.001576     0.001576  1.132723   \n",
       "1  1.166129  1.166129  1.717270  1.717270    0.000510     0.000510  1.132723   \n",
       "2  1.166129  1.166129  1.717270  1.717270   -0.000556    -0.000556  1.132723   \n",
       "3  1.166129  1.166129  1.717270  1.717270    0.000510     0.000510 -0.379394   \n",
       "4  1.166129  1.166129  0.999804  0.999804   -0.002689    -0.002689  1.132723   \n",
       "\n",
       "   KITCHENS1  LANDAREA  LANDAREA1  LIVING_GBA  LIVING_GBA1     PRICE  \\\n",
       "0   1.132723 -0.146197  -0.146197         NaN          NaN  0.023175   \n",
       "1   1.132723 -0.146197  -0.146197         NaN          NaN  0.165501   \n",
       "2   1.132723 -0.146197  -0.146197         NaN          NaN  0.094975   \n",
       "3  -0.379394  0.040393   0.040393         NaN          NaN  0.144258   \n",
       "4   1.132723 -0.165363  -0.165363         NaN          NaN  0.016803   \n",
       "\n",
       "     PRICE1   USECODE  USECODE1  \n",
       "0  0.023175  2.548333  2.548333  \n",
       "1  0.165501  2.548333  2.548333  \n",
       "2  0.094975  2.548333  2.548333  \n",
       "3  0.144258 -0.980986 -0.980986  \n",
       "4  0.016803  2.548333  2.548333  "
      ]
     },
     "execution_count": 18,
     "metadata": {},
     "output_type": "execute_result"
    }
   ],
   "source": [
    "dcp_zscore.head()"
   ]
  },
  {
   "cell_type": "code",
   "execution_count": 21,
   "metadata": {},
   "outputs": [
    {
     "data": {
      "text/plain": [
       "array([[<matplotlib.axes._subplots.AxesSubplot object at 0x000001C17E40F2E8>,\n",
       "        <matplotlib.axes._subplots.AxesSubplot object at 0x000001C1004F37B8>,\n",
       "        <matplotlib.axes._subplots.AxesSubplot object at 0x000001C10032C550>,\n",
       "        <matplotlib.axes._subplots.AxesSubplot object at 0x000001C1003468D0>],\n",
       "       [<matplotlib.axes._subplots.AxesSubplot object at 0x000001C100362E48>,\n",
       "        <matplotlib.axes._subplots.AxesSubplot object at 0x000001C100386400>,\n",
       "        <matplotlib.axes._subplots.AxesSubplot object at 0x000001C1003A0978>,\n",
       "        <matplotlib.axes._subplots.AxesSubplot object at 0x000001C1003BCF28>],\n",
       "       [<matplotlib.axes._subplots.AxesSubplot object at 0x000001C1003BCF60>,\n",
       "        <matplotlib.axes._subplots.AxesSubplot object at 0x000001C1003F9A20>,\n",
       "        <matplotlib.axes._subplots.AxesSubplot object at 0x000001C100417F98>,\n",
       "        <matplotlib.axes._subplots.AxesSubplot object at 0x000001C100437550>],\n",
       "       [<matplotlib.axes._subplots.AxesSubplot object at 0x000001C100454AC8>,\n",
       "        <matplotlib.axes._subplots.AxesSubplot object at 0x000001C100476080>,\n",
       "        <matplotlib.axes._subplots.AxesSubplot object at 0x000001C1004925F8>,\n",
       "        <matplotlib.axes._subplots.AxesSubplot object at 0x000001C1004ADB70>]],\n",
       "      dtype=object)"
      ]
     },
     "execution_count": 21,
     "metadata": {},
     "output_type": "execute_result"
    },
    {
     "data": {
      "image/png": "[encoded data removed]",
      "text/plain": [
       "<Figure size 432x288 with 16 Axes>"
      ]
     },
     "metadata": {
      "needs_background": "light"
     },
     "output_type": "display_data"
    }
   ],
   "source": [
    "#AFTER: frequency count plot of column (z-score standardization)\n",
    "#range is much smaller\n",
    "dcp_zscore.hist()"
   ]
  },
  {
   "cell_type": "markdown",
   "metadata": {},
   "source": [
    "### Min-max Scaling\n",
    "Max-min scaling transforms the data into a range from 0 to 1. The new minimum value of the column will always be 0 and the new maximum value of the column will always be 1. The values in between are calculated by using the original value and subtracting the column's minimum value, then dividing by the maximum value of the column minus the minimum value.\n",
    "\n",
    "### \\begin{align}  m = \\frac{(value - min)}{max - min} \\end{align}"
   ]
  },
  {
   "cell_type": "code",
   "execution_count": 22,
   "metadata": {},
   "outputs": [],
   "source": [
    "#MinMaxScaler function will calculate the formula\n",
    "minmax_sc = MinMaxScaler()"
   ]
  },
  {
   "cell_type": "code",
   "execution_count": 23,
   "metadata": {},
   "outputs": [],
   "source": [
    "#use MinMaxScaler function and fit_transform function on the column\n",
    "dcp_minmax = minmax_sc.fit_transform(dcp_df[['PRICE']])"
   ]
  },
  {
   "cell_type": "code",
   "execution_count": 24,
   "metadata": {},
   "outputs": [
    {
     "data": {
      "text/plain": [
       "(0.006777030046710401, 0.0513819049810315)"
      ]
     },
     "execution_count": 24,
     "metadata": {},
     "output_type": "execute_result"
    }
   ],
   "source": [
    "#mean and standard deviation of Min-Max column\n",
    "dcp_minmax.mean(), dcp_minmax.std()"
   ]
  },
  {
   "cell_type": "code",
   "execution_count": 25,
   "metadata": {},
   "outputs": [
    {
     "data": {
      "text/plain": [
       "0    0.007968\n",
       "1    0.015281\n",
       "2    0.011657\n",
       "3    0.014189\n",
       "4    0.007640\n",
       "dtype: float64"
      ]
     },
     "execution_count": 25,
     "metadata": {},
     "output_type": "execute_result"
    }
   ],
   "source": [
    "#convert array into a dataframe column\n",
    "#look at first 5 rows of min-max values\n",
    "dcp_mm_col = pd.Series(dcp_minmax.reshape(-1))\n",
    "dcp_mm_col.head()"
   ]
  },
  {
   "cell_type": "code",
   "execution_count": 26,
   "metadata": {},
   "outputs": [
    {
     "data": {
      "text/plain": [
       "(0.0, 0.9999999999999999)"
      ]
     },
     "execution_count": 26,
     "metadata": {},
     "output_type": "execute_result"
    }
   ],
   "source": [
    "#verify the range is between 0 and 1\n",
    "dcp_mm_col.min(), dcp_mm_col.max()"
   ]
  },
  {
   "cell_type": "code",
   "execution_count": 27,
   "metadata": {},
   "outputs": [
    {
     "data": {
      "text/plain": [
       "<matplotlib.axes._subplots.AxesSubplot at 0x1c1009669b0>"
      ]
     },
     "execution_count": 27,
     "metadata": {},
     "output_type": "execute_result"
    },
    {
     "data": {
      "image/png": "[encoded data removed]",
      "text/plain": [
       "<Figure size 432x288 with 1 Axes>"
      ]
     },
     "metadata": {
      "needs_background": "light"
     },
     "output_type": "display_data"
    }
   ],
   "source": [
    "dcp_mm_col.hist()"
   ]
  },
  {
   "cell_type": "code",
   "execution_count": 28,
   "metadata": {},
   "outputs": [
    {
     "name": "stderr",
     "output_type": "stream",
     "text": [
      "C:\\Users\\kdpan\\Anaconda3\\lib\\site-packages\\sklearn\\preprocessing\\data.py:323: DataConversionWarning: Data with input dtype int64, float64 were all converted to float64 by MinMaxScaler.\n",
      "  return self.partial_fit(X, y)\n"
     ]
    },
    {
     "data": {
      "text/plain": [
       "array([[<matplotlib.axes._subplots.AxesSubplot object at 0x000001C100A030F0>,\n",
       "        <matplotlib.axes._subplots.AxesSubplot object at 0x000001C100A222B0>,\n",
       "        <matplotlib.axes._subplots.AxesSubplot object at 0x000001C100A3E710>,\n",
       "        <matplotlib.axes._subplots.AxesSubplot object at 0x000001C100A59B70>],\n",
       "       [<matplotlib.axes._subplots.AxesSubplot object at 0x000001C100A78FD0>,\n",
       "        <matplotlib.axes._subplots.AxesSubplot object at 0x000001C100A99470>,\n",
       "        <matplotlib.axes._subplots.AxesSubplot object at 0x000001C100AB68D0>,\n",
       "        <matplotlib.axes._subplots.AxesSubplot object at 0x000001C100AD2D68>],\n",
       "       [<matplotlib.axes._subplots.AxesSubplot object at 0x000001C100AD2DA0>,\n",
       "        <matplotlib.axes._subplots.AxesSubplot object at 0x000001C100B10630>,\n",
       "        <matplotlib.axes._subplots.AxesSubplot object at 0x000001C100B2CA90>,\n",
       "        <matplotlib.axes._subplots.AxesSubplot object at 0x000001C100B48EF0>],\n",
       "       [<matplotlib.axes._subplots.AxesSubplot object at 0x000001C100B6A390>,\n",
       "        <matplotlib.axes._subplots.AxesSubplot object at 0x000001C100B857F0>,\n",
       "        <matplotlib.axes._subplots.AxesSubplot object at 0x000001C100BA2C50>,\n",
       "        <matplotlib.axes._subplots.AxesSubplot object at 0x000001C100BC50F0>]],\n",
       "      dtype=object)"
      ]
     },
     "execution_count": 28,
     "metadata": {},
     "output_type": "execute_result"
    },
    {
     "data": {
      "image/png": "[encoded data removed]",
      "text/plain": [
       "<Figure size 720x720 with 16 Axes>"
      ]
     },
     "metadata": {
      "needs_background": "light"
     },
     "output_type": "display_data"
    }
   ],
   "source": [
    "#show min-max scaling for all columns\n",
    "\n",
    "#calculate z-scores\n",
    "minmax_df = pd.DataFrame(minmax_sc.fit_transform(dcp_df[sel_col]), columns = sel_col)\n",
    "\n",
    "#plot frequency distribution with same scale range\n",
    "minmax_df.hist(figsize=(10,10), sharex=True)"
   ]
  },
  {
   "cell_type": "markdown",
   "metadata": {},
   "source": [
    "### Tips for Predictive Models\n",
    "\n",
    "- Z-score standardization is most useful for regression models, such as linear regression and logistic regression\n",
    "- Min-Max scaling is more relevant for algorithms that calculate distances between data points, such as K-Nearest Neighbors and K-Means Clustering"
   ]
  }
 ],
 "metadata": {
  "kernelspec": {
   "display_name": "Python 3",
   "language": "python",
   "name": "python3"
  },
  "language_info": {
   "codemirror_mode": {
    "name": "ipython",
    "version": 3
   },
   "file_extension": ".py",
   "mimetype": "text/x-python",
   "name": "python",
   "nbconvert_exporter": "python",
   "pygments_lexer": "ipython3",
   "version": "3.7.1"
  }
 },
 "nbformat": 4,
 "nbformat_minor": 2
}
