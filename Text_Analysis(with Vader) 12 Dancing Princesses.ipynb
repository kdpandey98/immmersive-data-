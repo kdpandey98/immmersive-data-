{
 "cells": [
  {
   "cell_type": "markdown",
   "metadata": {},
   "source": [
    "## Text Analysis (with Vader) 12 Dancing Pricessess\n",
    "### Kiran Pandey April 27, 2019\n",
    "\n",
    "In this module, we will use the Natural Language Toolkit Library (NLTK) to look at individual words and sentences in a text and clean unneccessary features from the text data to prepare for sentiment analysis. Then using the textblob library, we will analyze the sentiment of opinioned data to give a numerical value for use in a predictive model."
   ]
  },
  {
   "cell_type": "code",
   "execution_count": 1,
   "metadata": {},
   "outputs": [],
   "source": [
    "# libraries used\n",
    "import nltk\n",
    "\n",
    "from nltk.tokenize import word_tokenize   \n",
    "from nltk.tokenize import sent_tokenize\n",
    "from nltk.tokenize import TweetTokenizer\n",
    "\n",
    "from nltk.probability import FreqDist  \n",
    "from nltk.corpus import stopwords      \n",
    "from nltk.stem import WordNetLemmatizer \n",
    "from nltk.sentiment.vader import SentimentIntensityAnalyzer \n",
    "\n",
    "from nltk.corpus import names      #this is sample data\n",
    "from string import punctuation"
   ]
  },
  {
   "cell_type": "markdown",
   "metadata": {},
   "source": [
    "##  change to code if the following are not already downloaded \n",
    "#nltk.download('punkt')\n",
    "#nltk.download('wordnet')\n",
    "#nltk.download('names')\n",
    "#nltk.download('stopwords')\n",
    "#nltk.download('vader_lexicon')"
   ]
  },
  {
   "cell_type": "markdown",
   "metadata": {},
   "source": [
    "## Load file and explore raw data"
   ]
  },
  {
   "cell_type": "code",
   "execution_count": 2,
   "metadata": {},
   "outputs": [],
   "source": [
    "file = open('../datasets/datasets_12dancingprincesses.txt', 'r')\n",
    "dp_raw = file.read().replace('\\n','  ')      # read as one string with new line repalced by '  ' "
   ]
  },
  {
   "cell_type": "code",
   "execution_count": 3,
   "metadata": {},
   "outputs": [
    {
     "name": "stdout",
     "output_type": "stream",
     "text": [
      "<class 'str'>\n",
      "8498\n"
     ]
    },
    {
     "data": {
      "text/plain": [
       "'THE TWELVE DANCING PRINCESSES    There was a king who had twelve beautiful daughters. They slept in  twelve beds all in one room; and when they went to bed, the doors were  shut and locked up; but every morning their shoes were found to be quite  worn through as if they had been danced in all night; and yet nobody  could find out how it happened, or where they had been.    Then the king made it known to all the land, that if any person could  discover the secret, and find out where it was that the princesses  danced in the night, he should have the one he liked best for his  wife, and should be king after his death; but whoever tried and did not  succeed, after three days and nights, should be put to death.    A king’s son soon came. He was well entertained, and in the evening was  taken to the chamber next to the one where the princesses lay in their  twelve beds. There he was to sit and watch where they went to dance;  and, in order that nothing might pass without his hearing it, the door  of his chamber was left open. But the king’s son soon fell asleep; and  when he awoke in the morning he found that the princesses had all been  dancing, for the soles of their shoes were full of holes. The same thing  happened the second and third night: so the king ordered his head to be  cut off. After him came several others; but they had all the same luck,  and all lost their lives in the same manner.    Now it chanced that an old soldier, who had been wounded in battle  and could fight no longer, passed through the country where this king  reigned: and as he was travelling through a wood, he met an old woman,  who asked him where he was going. ‘I hardly know where I am going, or  what I had better do,’ said the soldier; ‘but I think I should like very  well to find out where it is that the princesses dance, and then in time  I might be a king.’ ‘Well,’ said the old dame, ‘that is no very hard  task: only take care not to drink any of the wine which one of the  princesses will bring to you in the evening; and as soon as she leaves  you pretend to be fast asleep.’    Then she gave him a cloak, and said, ‘As soon as you put that on  you will become invisible, and you will then be able to follow the  princesses wherever they go.’ When the soldier heard all this good  counsel, he determined to try his luck: so he went to the king, and said  he was willing to undertake the task.    He was as well received as the others had been, and the king ordered  fine royal robes to be given him; and when the evening came he was led  to the outer chamber. Just as he was going to lie down, the eldest of  the princesses brought him a cup of wine; but the soldier threw it all  away secretly, taking care not to drink a drop. Then he laid himself  down on his bed, and in a little while began to snore very loud as if  he was fast asleep. When the twelve princesses heard this they laughed  heartily; and the eldest said, ‘This fellow too might have done a wiser  thing than lose his life in this way!’ Then they rose up and opened  their drawers and boxes, and took out all their fine clothes, and  dressed themselves at the glass, and skipped about as if they were eager  to begin dancing. But the youngest said, ‘I don’t know how it is, while  you are so happy I feel very uneasy; I am sure some mischance will  befall us.’ ‘You simpleton,’ said the eldest, ‘you are always afraid;  have you forgotten how many kings’ sons have already watched in vain?  And as for this soldier, even if I had not given him his sleeping  draught, he would have slept soundly enough.’    When they were all ready, they went and looked at the soldier; but he  snored on, and did not stir hand or foot: so they thought they were  quite safe; and the eldest went up to her own bed and clapped her hands,  and the bed sank into the floor and a trap-door flew open. The soldier  saw them going down through the trap-door one after another, the eldest  leading the way; and thinking he had no time to lose, he jumped up, put  on the cloak which the old woman had given him, and followed them;  but in the middle of the stairs he trod on the gown of the youngest  princess, and she cried out to her sisters, ‘All is not right; someone  took hold of my gown.’ ‘You silly creature!’ said the eldest, ‘it is  nothing but a nail in the wall.’ Then down they all went, and at the  bottom they found themselves in a most delightful grove of trees; and  the leaves were all of silver, and glittered and sparkled beautifully.  The soldier wished to take away some token of the place; so he broke  off a little branch, and there came a loud noise from the tree. Then the  youngest daughter said again, ‘I am sure all is not right--did not you  hear that noise? That never happened before.’ But the eldest said, ‘It  is only our princes, who are shouting for joy at our approach.’    Then they came to another grove of trees, where all the leaves were of  gold; and afterwards to a third, where the leaves were all glittering  diamonds. And the soldier broke a branch from each; and every time there  was a loud noise, which made the youngest sister tremble with fear; but  the eldest still said, it was only the princes, who were crying for joy.  So they went on till they came to a great lake; and at the side of the  lake there lay twelve little boats with twelve handsome princes in them,  who seemed to be waiting there for the princesses.    One of the princesses went into each boat, and the soldier stepped into  the same boat with the youngest. As they were rowing over the lake, the  prince who was in the boat with the youngest princess and the soldier  said, ‘I do not know why it is, but though I am rowing with all my might  we do not get on so fast as usual, and I am quite tired: the boat  seems very heavy today.’ ‘It is only the heat of the weather,’ said the  princess: ‘I feel it very warm too.’    On the other side of the lake stood a fine illuminated castle, from  which came the merry music of horns and trumpets. There they all landed,  and went into the castle, and each prince danced with his princess; and  the soldier, who was all the time invisible, danced with them too; and  when any of the princesses had a cup of wine set by her, he drank it  all up, so that when she put the cup to her mouth it was empty. At this,  too, the youngest sister was terribly frightened, but the eldest always  silenced her. They danced on till three o’clock in the morning, and then  all their shoes were worn out, so that they were obliged to leave off.  The princes rowed them back again over the lake (but this time the  soldier placed himself in the boat with the eldest princess); and on the  opposite shore they took leave of each other, the princesses promising  to come again the next night.    When they came to the stairs, the soldier ran on before the princesses,  and laid himself down; and as the twelve sisters slowly came up very  much tired, they heard him snoring in his bed; so they said, ‘Now all  is quite safe’; then they undressed themselves, put away their fine  clothes, pulled off their shoes, and went to bed. In the morning the  soldier said nothing about what had happened, but determined to see more  of this strange adventure, and went again the second and third night;  and every thing happened just as before; the princesses danced each time  till their shoes were worn to pieces, and then returned home. However,  on the third night the soldier carried away one of the golden cups as a  token of where he had been.    As soon as the time came when he was to declare the secret, he was taken  before the king with the three branches and the golden cup; and the  twelve princesses stood listening behind the door to hear what he would  say. And when the king asked him. ‘Where do my twelve daughters dance at  night?’ he answered, ‘With twelve princes in a castle under ground.’ And  then he told the king all that had happened, and showed him the three  branches and the golden cup which he had brought with him. Then the king  called for the princesses, and asked them whether what the soldier said  was true: and when they saw that they were discovered, and that it was  of no use to deny what had happened, they confessed it all. And the king  asked the soldier which of them he would choose for his wife; and he  answered, ‘I am not very young, so I will have the eldest.’--And they  were married that very day, and the soldier was chosen to be the king’s  heir.'"
      ]
     },
     "execution_count": 3,
     "metadata": {},
     "output_type": "execute_result"
    }
   ],
   "source": [
    "print (type(dp_raw))\n",
    "print (len(dp_raw))           # establish baseline value number of characters\n",
    "dp_raw                     "
   ]
  },
  {
   "cell_type": "markdown",
   "metadata": {},
   "source": [
    "## Clean data\n",
    "#### convert to lower case / remove punctuation"
   ]
  },
  {
   "cell_type": "code",
   "execution_count": 4,
   "metadata": {},
   "outputs": [
    {
     "data": {
      "text/plain": [
       "'the twelve dancing princesses    there was a king who had twelve beautiful daughters. they slept in  twelve beds all in one room; and when they went to bed, the doors were  shut and locked up; but every morning their shoes were found to be quite  worn through as if they had been danced in all night; and yet nobody  could find out how it happened, or where they had been.    then the king made it kn'"
      ]
     },
     "execution_count": 4,
     "metadata": {},
     "output_type": "execute_result"
    }
   ],
   "source": [
    "dp_in = dp_raw.lower()    # change all the words to lowercase\n",
    "dp_in[0:400]"
   ]
  },
  {
   "cell_type": "code",
   "execution_count": 5,
   "metadata": {},
   "outputs": [
    {
     "name": "stdout",
     "output_type": "stream",
     "text": [
      "<class 'str'>\n",
      "8292\n"
     ]
    },
    {
     "data": {
      "text/plain": [
       "'the twelve dancing princesses    there was a king who had twelve beautiful daughters they slept in  twelve beds all in one room and when they went to bed the doors were  shut and locked up but every morning their shoes were found to be quite  worn through as if they had been danced in all night and yet nobody  could find out how it happened or where they had been    then the king made it known to '"
      ]
     },
     "execution_count": 5,
     "metadata": {},
     "output_type": "execute_result"
    }
   ],
   "source": [
    "translator = dp_in.maketrans('‘’', '  ', punctuation)    # create dictionary to remap punctuation to none, add ‘’ also to list\n",
    "dp_in = dp_in.translate(translator)                      # strip all puctuation\n",
    "print (type(dp_in))\n",
    "print (len(dp_in))                                       # establish baseline value number of characters\n",
    "dp_in[0:400]      "
   ]
  },
  {
   "cell_type": "markdown",
   "metadata": {},
   "source": [
    "## Structure data -- tokenize "
   ]
  },
  {
   "cell_type": "code",
   "execution_count": 6,
   "metadata": {},
   "outputs": [
    {
     "data": {
      "text/plain": [
       "1611"
      ]
     },
     "execution_count": 6,
     "metadata": {},
     "output_type": "execute_result"
    }
   ],
   "source": [
    "dp_words = word_tokenize(dp_in)    #then tokenize each part of the text\n",
    "len(dp_words)"
   ]
  },
  {
   "cell_type": "code",
   "execution_count": 7,
   "metadata": {},
   "outputs": [
    {
     "data": {
      "text/plain": [
       "FreqDist({'the': 139, 'and': 78, 'to': 42, 'he': 33, 'they': 32, 'of': 28, 'in': 25, 'was': 24, 'all': 24, 'a': 22, ...})"
      ]
     },
     "execution_count": 7,
     "metadata": {},
     "output_type": "execute_result"
    }
   ],
   "source": [
    "#the NLTK FreqDist gives a count for how often each part of the text occurs\n",
    "fd_wct = FreqDist(dp_words)\n",
    "fd_wct"
   ]
  },
  {
   "cell_type": "code",
   "execution_count": 8,
   "metadata": {},
   "outputs": [
    {
     "data": {
      "text/plain": [
       "[('the', 139),\n",
       " ('and', 78),\n",
       " ('to', 42),\n",
       " ('he', 33),\n",
       " ('they', 32),\n",
       " ('of', 28),\n",
       " ('in', 25),\n",
       " ('was', 24),\n",
       " ('all', 24),\n",
       " ('a', 22)]"
      ]
     },
     "execution_count": 8,
     "metadata": {},
     "output_type": "execute_result"
    }
   ],
   "source": [
    "#shows the top 10 words in the text\n",
    "fd_wct.most_common(10)"
   ]
  },
  {
   "cell_type": "code",
   "execution_count": 9,
   "metadata": {},
   "outputs": [],
   "source": [
    "dp_new = []  # placeholder for new words\n",
    "dp_rm = []   # placeholder for removed words\n",
    "\n",
    "for word in dp_words:                               # loop through each word; bin stopwords to remove and rest to new word \n",
    "    if word not in stopwords.words('english'):\n",
    "        dp_new.append(word)\n",
    "    else: \n",
    "        dp_rm.append(word)"
   ]
  },
  {
   "cell_type": "code",
   "execution_count": 10,
   "metadata": {},
   "outputs": [
    {
     "name": "stdout",
     "output_type": "stream",
     "text": [
      "removed word count =  945\n",
      "no of unique removed words =  92\n"
     ]
    },
    {
     "data": {
      "text/plain": [
       "[('the', 139),\n",
       " ('and', 78),\n",
       " ('to', 42),\n",
       " ('he', 33),\n",
       " ('they', 32),\n",
       " ('of', 28),\n",
       " ('in', 25),\n",
       " ('was', 24),\n",
       " ('all', 24),\n",
       " ('a', 22),\n",
       " ('as', 19),\n",
       " ('it', 18),\n",
       " ('had', 17),\n",
       " ('i', 17),\n",
       " ('were', 16)]"
      ]
     },
     "execution_count": 10,
     "metadata": {},
     "output_type": "execute_result"
    }
   ],
   "source": [
    "print ('removed word count = ', len(dp_rm))       # confirm/validate removed words are appropriate\n",
    "fd_rm = FreqDist(dp_rm)\n",
    "print ('no of unique removed words = ', len(fd_rm))\n",
    "fd_rm.most_common(15)"
   ]
  },
  {
   "cell_type": "code",
   "execution_count": 11,
   "metadata": {},
   "outputs": [
    {
     "name": "stdout",
     "output_type": "stream",
     "text": [
      "new word count =  666\n",
      "no of unique new words =  349\n"
     ]
    },
    {
     "data": {
      "text/plain": [
       "[('soldier', 19),\n",
       " ('princesses', 17),\n",
       " ('king', 16),\n",
       " ('said', 16),\n",
       " ('twelve', 11),\n",
       " ('went', 11),\n",
       " ('eldest', 11),\n",
       " ('came', 10),\n",
       " ('one', 7),\n",
       " ('night', 7),\n",
       " ('happened', 7),\n",
       " ('time', 7),\n",
       " ('youngest', 7),\n",
       " ('bed', 6),\n",
       " ('danced', 6)]"
      ]
     },
     "execution_count": 11,
     "metadata": {},
     "output_type": "execute_result"
    }
   ],
   "source": [
    "print ('new word count = ', len(dp_new))          # review baseline data for enrichment \n",
    "fd_nw = FreqDist(dp_new)\n",
    "print ('no of unique new words = ', len(fd_nw))\n",
    "fd_nw.most_common(15)"
   ]
  },
  {
   "cell_type": "code",
   "execution_count": 12,
   "metadata": {},
   "outputs": [
    {
     "name": "stdout",
     "output_type": "stream",
     "text": [
      "0 twelve\n",
      "1 dancing\n",
      "2 princesses\n",
      "3 king\n",
      "4 twelve\n",
      "5 beautiful\n",
      "6 daughters\n",
      "7 slept\n",
      "8 twelve\n",
      "9 beds\n",
      "10 one\n",
      "11 room\n",
      "12 went\n",
      "13 bed\n",
      "14 doors\n",
      "15 shut\n",
      "16 locked\n",
      "17 every\n",
      "18 morning\n",
      "19 shoes\n",
      "20 found\n",
      "21 quite\n",
      "22 worn\n",
      "23 danced\n",
      "24 night\n",
      "25 yet\n",
      "26 nobody\n",
      "27 could\n",
      "28 find\n",
      "29 happened\n",
      "30 king\n",
      "31 made\n",
      "32 known\n",
      "33 land\n",
      "34 person\n",
      "35 could\n",
      "36 discover\n",
      "37 secret\n",
      "38 find\n",
      "39 princesses\n",
      "40 danced\n",
      "41 night\n",
      "42 one\n",
      "43 liked\n",
      "44 best\n",
      "45 wife\n",
      "46 king\n",
      "47 death\n",
      "48 whoever\n",
      "49 tried\n",
      "50 succeed\n",
      "51 three\n",
      "52 days\n",
      "53 nights\n",
      "54 put\n",
      "55 death\n",
      "56 king\n",
      "57 son\n",
      "58 soon\n",
      "59 came\n",
      "60 well\n",
      "61 entertained\n",
      "62 evening\n",
      "63 taken\n",
      "64 chamber\n",
      "65 next\n",
      "66 one\n",
      "67 princesses\n",
      "68 lay\n",
      "69 twelve\n",
      "70 beds\n",
      "71 sit\n",
      "72 watch\n",
      "73 went\n",
      "74 dance\n",
      "75 order\n",
      "76 nothing\n",
      "77 might\n",
      "78 pass\n",
      "79 without\n",
      "80 hearing\n",
      "81 door\n",
      "82 chamber\n",
      "83 left\n",
      "84 open\n",
      "85 king\n",
      "86 son\n",
      "87 soon\n",
      "88 fell\n",
      "89 asleep\n",
      "90 awoke\n",
      "91 morning\n",
      "92 found\n",
      "93 princesses\n",
      "94 dancing\n",
      "95 soles\n",
      "96 shoes\n",
      "97 full\n",
      "98 holes\n",
      "99 thing\n",
      "100 happened\n",
      "101 second\n",
      "102 third\n",
      "103 night\n",
      "104 king\n",
      "105 ordered\n",
      "106 head\n",
      "107 cut\n",
      "108 came\n",
      "109 several\n",
      "110 others\n",
      "111 luck\n",
      "112 lost\n",
      "113 lives\n",
      "114 manner\n",
      "115 chanced\n",
      "116 old\n",
      "117 soldier\n",
      "118 wounded\n",
      "119 battle\n",
      "120 could\n",
      "121 fight\n",
      "122 longer\n",
      "123 passed\n",
      "124 country\n",
      "125 king\n",
      "126 reigned\n",
      "127 travelling\n",
      "128 wood\n",
      "129 met\n",
      "130 old\n",
      "131 woman\n",
      "132 asked\n",
      "133 going\n",
      "134 hardly\n",
      "135 know\n",
      "136 going\n",
      "137 better\n",
      "138 said\n",
      "139 soldier\n",
      "140 think\n",
      "141 like\n",
      "142 well\n",
      "143 find\n",
      "144 princesses\n",
      "145 dance\n",
      "146 time\n",
      "147 might\n",
      "148 king\n",
      "149 well\n",
      "150 said\n",
      "151 old\n",
      "152 dame\n",
      "153 hard\n",
      "154 task\n",
      "155 take\n",
      "156 care\n",
      "157 drink\n",
      "158 wine\n",
      "159 one\n",
      "160 princesses\n",
      "161 bring\n",
      "162 evening\n",
      "163 soon\n",
      "164 leaves\n",
      "165 pretend\n",
      "166 fast\n",
      "167 asleep\n",
      "168 gave\n",
      "169 cloak\n",
      "170 said\n",
      "171 soon\n",
      "172 put\n",
      "173 become\n",
      "174 invisible\n",
      "175 able\n",
      "176 follow\n",
      "177 princesses\n",
      "178 wherever\n",
      "179 go\n",
      "180 soldier\n",
      "181 heard\n",
      "182 good\n",
      "183 counsel\n",
      "184 determined\n",
      "185 try\n",
      "186 luck\n",
      "187 went\n",
      "188 king\n",
      "189 said\n",
      "190 willing\n",
      "191 undertake\n",
      "192 task\n",
      "193 well\n",
      "194 received\n",
      "195 others\n",
      "196 king\n",
      "197 ordered\n",
      "198 fine\n",
      "199 royal\n",
      "200 robes\n",
      "201 given\n",
      "202 evening\n",
      "203 came\n",
      "204 led\n",
      "205 outer\n",
      "206 chamber\n",
      "207 going\n",
      "208 lie\n",
      "209 eldest\n",
      "210 princesses\n",
      "211 brought\n",
      "212 cup\n",
      "213 wine\n",
      "214 soldier\n",
      "215 threw\n",
      "216 away\n",
      "217 secretly\n",
      "218 taking\n",
      "219 care\n",
      "220 drink\n",
      "221 drop\n",
      "222 laid\n",
      "223 bed\n",
      "224 little\n",
      "225 began\n",
      "226 snore\n",
      "227 loud\n",
      "228 fast\n",
      "229 asleep\n",
      "230 twelve\n",
      "231 princesses\n",
      "232 heard\n",
      "233 laughed\n",
      "234 heartily\n",
      "235 eldest\n",
      "236 said\n",
      "237 fellow\n",
      "238 might\n",
      "239 done\n",
      "240 wiser\n",
      "241 thing\n",
      "242 lose\n",
      "243 life\n",
      "244 way\n",
      "245 rose\n",
      "246 opened\n",
      "247 drawers\n",
      "248 boxes\n",
      "249 took\n",
      "250 fine\n",
      "251 clothes\n",
      "252 dressed\n",
      "253 glass\n",
      "254 skipped\n",
      "255 eager\n",
      "256 begin\n",
      "257 dancing\n",
      "258 youngest\n",
      "259 said\n",
      "260 know\n",
      "261 happy\n",
      "262 feel\n",
      "263 uneasy\n",
      "264 sure\n",
      "265 mischance\n",
      "266 befall\n",
      "267 us\n",
      "268 simpleton\n",
      "269 said\n",
      "270 eldest\n",
      "271 always\n",
      "272 afraid\n",
      "273 forgotten\n",
      "274 many\n",
      "275 kings\n",
      "276 sons\n",
      "277 already\n",
      "278 watched\n",
      "279 vain\n",
      "280 soldier\n",
      "281 even\n",
      "282 given\n",
      "283 sleeping\n",
      "284 draught\n",
      "285 would\n",
      "286 slept\n",
      "287 soundly\n",
      "288 enough\n",
      "289 ready\n",
      "290 went\n",
      "291 looked\n",
      "292 soldier\n",
      "293 snored\n",
      "294 stir\n",
      "295 hand\n",
      "296 foot\n",
      "297 thought\n",
      "298 quite\n",
      "299 safe\n",
      "300 eldest\n",
      "301 went\n",
      "302 bed\n",
      "303 clapped\n",
      "304 hands\n",
      "305 bed\n",
      "306 sank\n",
      "307 floor\n",
      "308 trapdoor\n",
      "309 flew\n",
      "310 open\n",
      "311 soldier\n",
      "312 saw\n",
      "313 going\n",
      "314 trapdoor\n",
      "315 one\n",
      "316 another\n",
      "317 eldest\n",
      "318 leading\n",
      "319 way\n",
      "320 thinking\n",
      "321 time\n",
      "322 lose\n",
      "323 jumped\n",
      "324 put\n",
      "325 cloak\n",
      "326 old\n",
      "327 woman\n",
      "328 given\n",
      "329 followed\n",
      "330 middle\n",
      "331 stairs\n",
      "332 trod\n",
      "333 gown\n",
      "334 youngest\n",
      "335 princess\n",
      "336 cried\n",
      "337 sisters\n",
      "338 right\n",
      "339 someone\n",
      "340 took\n",
      "341 hold\n",
      "342 gown\n",
      "343 silly\n",
      "344 creature\n",
      "345 said\n",
      "346 eldest\n",
      "347 nothing\n",
      "348 nail\n",
      "349 wall\n",
      "350 went\n",
      "351 bottom\n",
      "352 found\n",
      "353 delightful\n",
      "354 grove\n",
      "355 trees\n",
      "356 leaves\n",
      "357 silver\n",
      "358 glittered\n",
      "359 sparkled\n",
      "360 beautifully\n",
      "361 soldier\n",
      "362 wished\n",
      "363 take\n",
      "364 away\n",
      "365 token\n",
      "366 place\n",
      "367 broke\n",
      "368 little\n",
      "369 branch\n",
      "370 came\n",
      "371 loud\n",
      "372 noise\n",
      "373 tree\n",
      "374 youngest\n",
      "375 daughter\n",
      "376 said\n",
      "377 sure\n",
      "378 rightdid\n",
      "379 hear\n",
      "380 noise\n",
      "381 never\n",
      "382 happened\n",
      "383 eldest\n",
      "384 said\n",
      "385 princes\n",
      "386 shouting\n",
      "387 joy\n",
      "388 approach\n",
      "389 came\n",
      "390 another\n",
      "391 grove\n",
      "392 trees\n",
      "393 leaves\n",
      "394 gold\n",
      "395 afterwards\n",
      "396 third\n",
      "397 leaves\n",
      "398 glittering\n",
      "399 diamonds\n",
      "400 soldier\n",
      "401 broke\n",
      "402 branch\n",
      "403 every\n",
      "404 time\n",
      "405 loud\n",
      "406 noise\n",
      "407 made\n",
      "408 youngest\n",
      "409 sister\n",
      "410 tremble\n",
      "411 fear\n",
      "412 eldest\n",
      "413 still\n",
      "414 said\n",
      "415 princes\n",
      "416 crying\n",
      "417 joy\n",
      "418 went\n",
      "419 till\n",
      "420 came\n",
      "421 great\n",
      "422 lake\n",
      "423 side\n",
      "424 lake\n",
      "425 lay\n",
      "426 twelve\n",
      "427 little\n",
      "428 boats\n",
      "429 twelve\n",
      "430 handsome\n",
      "431 princes\n",
      "432 seemed\n",
      "433 waiting\n",
      "434 princesses\n",
      "435 one\n",
      "436 princesses\n",
      "437 went\n",
      "438 boat\n",
      "439 soldier\n",
      "440 stepped\n",
      "441 boat\n",
      "442 youngest\n",
      "443 rowing\n",
      "444 lake\n",
      "445 prince\n",
      "446 boat\n",
      "447 youngest\n",
      "448 princess\n",
      "449 soldier\n",
      "450 said\n",
      "451 know\n",
      "452 though\n",
      "453 rowing\n",
      "454 might\n",
      "455 get\n",
      "456 fast\n",
      "457 usual\n",
      "458 quite\n",
      "459 tired\n",
      "460 boat\n",
      "461 seems\n",
      "462 heavy\n",
      "463 today\n",
      "464 heat\n",
      "465 weather\n",
      "466 said\n",
      "467 princess\n",
      "468 feel\n",
      "469 warm\n",
      "470 side\n",
      "471 lake\n",
      "472 stood\n",
      "473 fine\n",
      "474 illuminated\n",
      "475 castle\n",
      "476 came\n",
      "477 merry\n",
      "478 music\n",
      "479 horns\n",
      "480 trumpets\n",
      "481 landed\n",
      "482 went\n",
      "483 castle\n",
      "484 prince\n",
      "485 danced\n",
      "486 princess\n",
      "487 soldier\n",
      "488 time\n",
      "489 invisible\n",
      "490 danced\n",
      "491 princesses\n",
      "492 cup\n",
      "493 wine\n",
      "494 set\n",
      "495 drank\n",
      "496 put\n",
      "497 cup\n",
      "498 mouth\n",
      "499 empty\n",
      "500 youngest\n",
      "501 sister\n",
      "502 terribly\n",
      "503 frightened\n",
      "504 eldest\n",
      "505 always\n",
      "506 silenced\n",
      "507 danced\n",
      "508 till\n",
      "509 three\n",
      "510 clock\n",
      "511 morning\n",
      "512 shoes\n",
      "513 worn\n",
      "514 obliged\n",
      "515 leave\n",
      "516 princes\n",
      "517 rowed\n",
      "518 back\n",
      "519 lake\n",
      "520 time\n",
      "521 soldier\n",
      "522 placed\n",
      "523 boat\n",
      "524 eldest\n",
      "525 princess\n",
      "526 opposite\n",
      "527 shore\n",
      "528 took\n",
      "529 leave\n",
      "530 princesses\n",
      "531 promising\n",
      "532 come\n",
      "533 next\n",
      "534 night\n",
      "535 came\n",
      "536 stairs\n",
      "537 soldier\n",
      "538 ran\n",
      "539 princesses\n",
      "540 laid\n",
      "541 twelve\n",
      "542 sisters\n",
      "543 slowly\n",
      "544 came\n",
      "545 much\n",
      "546 tired\n",
      "547 heard\n",
      "548 snoring\n",
      "549 bed\n",
      "550 said\n",
      "551 quite\n",
      "552 safe\n",
      "553 undressed\n",
      "554 put\n",
      "555 away\n",
      "556 fine\n",
      "557 clothes\n",
      "558 pulled\n",
      "559 shoes\n",
      "560 went\n",
      "561 bed\n",
      "562 morning\n",
      "563 soldier\n",
      "564 said\n",
      "565 nothing\n",
      "566 happened\n",
      "567 determined\n",
      "568 see\n",
      "569 strange\n",
      "570 adventure\n",
      "571 went\n",
      "572 second\n",
      "573 third\n",
      "574 night\n",
      "575 every\n",
      "576 thing\n",
      "577 happened\n",
      "578 princesses\n",
      "579 danced\n",
      "580 time\n",
      "581 till\n",
      "582 shoes\n",
      "583 worn\n",
      "584 pieces\n",
      "585 returned\n",
      "586 home\n",
      "587 however\n",
      "588 third\n",
      "589 night\n",
      "590 soldier\n",
      "591 carried\n",
      "592 away\n",
      "593 one\n",
      "594 golden\n",
      "595 cups\n",
      "596 token\n",
      "597 soon\n",
      "598 time\n",
      "599 came\n",
      "600 declare\n",
      "601 secret\n",
      "602 taken\n",
      "603 king\n",
      "604 three\n",
      "605 branches\n",
      "606 golden\n",
      "607 cup\n",
      "608 twelve\n",
      "609 princesses\n",
      "610 stood\n",
      "611 listening\n",
      "612 behind\n",
      "613 door\n",
      "614 hear\n",
      "615 would\n",
      "616 say\n",
      "617 king\n",
      "618 asked\n",
      "619 twelve\n",
      "620 daughters\n",
      "621 dance\n",
      "622 night\n",
      "623 answered\n",
      "624 twelve\n",
      "625 princes\n",
      "626 castle\n",
      "627 ground\n",
      "628 told\n",
      "629 king\n",
      "630 happened\n",
      "631 showed\n",
      "632 three\n",
      "633 branches\n",
      "634 golden\n",
      "635 cup\n",
      "636 brought\n",
      "637 king\n",
      "638 called\n",
      "639 princesses\n",
      "640 asked\n",
      "641 whether\n",
      "642 soldier\n",
      "643 said\n",
      "644 true\n",
      "645 saw\n",
      "646 discovered\n",
      "647 use\n",
      "648 deny\n",
      "649 happened\n",
      "650 confessed\n",
      "651 king\n",
      "652 asked\n",
      "653 soldier\n",
      "654 would\n",
      "655 choose\n",
      "656 wife\n",
      "657 answered\n",
      "658 young\n",
      "659 eldest\n",
      "660 married\n",
      "661 day\n",
      "662 soldier\n",
      "663 chosen\n",
      "664 king\n",
      "665 heir\n"
     ]
    }
   ],
   "source": [
    "for i, word in enumerate(dp_new):      # list of all new_words and its index \n",
    "    print (i, word)"
   ]
  },
  {
   "cell_type": "code",
   "execution_count": 13,
   "metadata": {},
   "outputs": [],
   "source": [
    "#  To be completed -- create an index for occurences of the new_word in the original text.  "
   ]
  },
  {
   "cell_type": "markdown",
   "metadata": {},
   "source": [
    "###  Enrich retained word list for analysis\n",
    "#### Lemmatization verb, noun, adjective"
   ]
  },
  {
   "cell_type": "code",
   "execution_count": 14,
   "metadata": {},
   "outputs": [],
   "source": [
    "wnl = WordNetLemmatizer()      # create instance of wordnetlemmatizer"
   ]
  },
  {
   "cell_type": "code",
   "execution_count": 15,
   "metadata": {},
   "outputs": [],
   "source": [
    "##### to be completed set up loop strutcure or function to replace lemmatization steps (verb, noun, adjective)"
   ]
  },
  {
   "cell_type": "code",
   "execution_count": 16,
   "metadata": {},
   "outputs": [],
   "source": [
    "#empty list to hold the new lemmatized words\n",
    "lemm_v = []\n",
    "\n",
    "for word in dp_new:\n",
    "    lemm_v.append(wnl.lemmatize(word, pos=\"v\"))  #lemmatize using 'verb' part-of-speech"
   ]
  },
  {
   "cell_type": "code",
   "execution_count": 17,
   "metadata": {},
   "outputs": [
    {
     "name": "stdout",
     "output_type": "stream",
     "text": [
      "new word count =  666\n",
      "no of unique words =  300\n"
     ]
    },
    {
     "data": {
      "text/plain": [
       "[('soldier', 19),\n",
       " ('princesses', 17),\n",
       " ('say', 17),\n",
       " ('king', 16),\n",
       " ('go', 16),\n",
       " ('dance', 12),\n",
       " ('twelve', 11),\n",
       " ('come', 11),\n",
       " ('eldest', 11),\n",
       " ('bed', 8),\n",
       " ('take', 8),\n",
       " ('one', 7),\n",
       " ('night', 7),\n",
       " ('happen', 7),\n",
       " ('leave', 7)]"
      ]
     },
     "execution_count": 17,
     "metadata": {},
     "output_type": "execute_result"
    }
   ],
   "source": [
    "#this is the list of tokens after being lemmatized\n",
    "print ('new word count = ', len(lemm_v))\n",
    "fd_nw = FreqDist(lemm_v)\n",
    "print ('no of unique words = ', len(fd_nw))\n",
    "fd_nw.most_common(15)"
   ]
  },
  {
   "cell_type": "code",
   "execution_count": 18,
   "metadata": {},
   "outputs": [],
   "source": [
    "lemm_n = []\n",
    "\n",
    "for word in lemm_v:\n",
    "    lemm_n.append(wnl.lemmatize(word, pos=\"n\"))  #lemmatize using 'noun' part-of-speech"
   ]
  },
  {
   "cell_type": "code",
   "execution_count": 19,
   "metadata": {},
   "outputs": [
    {
     "name": "stdout",
     "output_type": "stream",
     "text": [
      "new word count =  666\n",
      "no of unique words =  291\n"
     ]
    },
    {
     "data": {
      "text/plain": [
       "[('princess', 22),\n",
       " ('soldier', 19),\n",
       " ('king', 17),\n",
       " ('say', 17),\n",
       " ('go', 16),\n",
       " ('dance', 12),\n",
       " ('twelve', 11),\n",
       " ('come', 11),\n",
       " ('eldest', 11),\n",
       " ('bed', 8),\n",
       " ('night', 8),\n",
       " ('take', 8),\n",
       " ('one', 7),\n",
       " ('happen', 7),\n",
       " ('leave', 7)]"
      ]
     },
     "execution_count": 19,
     "metadata": {},
     "output_type": "execute_result"
    }
   ],
   "source": [
    "#this is the list of tokens after being lemmatized\n",
    "print ('new word count = ', len(lemm_n))\n",
    "fd_nw = FreqDist(lemm_n)\n",
    "print ('no of unique words = ', len(fd_nw))\n",
    "fd_nw.most_common(15)"
   ]
  },
  {
   "cell_type": "code",
   "execution_count": 20,
   "metadata": {},
   "outputs": [],
   "source": [
    "lemm_a = []\n",
    "\n",
    "for word in lemm_n:\n",
    "    lemm_a.append(wnl.lemmatize(word, pos=\"a\"))  #lemmatize using 'adjective' part-of-speech"
   ]
  },
  {
   "cell_type": "code",
   "execution_count": 21,
   "metadata": {},
   "outputs": [
    {
     "name": "stdout",
     "output_type": "stream",
     "text": [
      "new word count =  666\n",
      "no of unique words =  289\n"
     ]
    },
    {
     "data": {
      "text/plain": [
       "[('princess', 22),\n",
       " ('soldier', 19),\n",
       " ('king', 17),\n",
       " ('say', 17),\n",
       " ('go', 16),\n",
       " ('dance', 12),\n",
       " ('twelve', 11),\n",
       " ('come', 11),\n",
       " ('eldest', 11),\n",
       " ('bed', 8),\n",
       " ('night', 8),\n",
       " ('take', 8),\n",
       " ('young', 8),\n",
       " ('one', 7),\n",
       " ('happen', 7)]"
      ]
     },
     "execution_count": 21,
     "metadata": {},
     "output_type": "execute_result"
    }
   ],
   "source": [
    "##this is the list of tokens after being lemmatized\n",
    "print ('new word count = ', len(lemm_a))\n",
    "fd_nw = FreqDist(lemm_a)\n",
    "print ('no of unique words = ', len(fd_nw))\n",
    "fd_nw.most_common(15)"
   ]
  },
  {
   "cell_type": "markdown",
   "metadata": {},
   "source": [
    "### Publish data for analysis"
   ]
  },
  {
   "cell_type": "code",
   "execution_count": 22,
   "metadata": {},
   "outputs": [],
   "source": [
    "dp_final = \" \".join(lemm_a)                  # convert final word list to a single string   "
   ]
  },
  {
   "cell_type": "markdown",
   "metadata": {},
   "source": [
    "### Data Analysis and Modeling \n",
    "#### Sentiment Analysis"
   ]
  },
  {
   "cell_type": "code",
   "execution_count": 23,
   "metadata": {},
   "outputs": [],
   "source": [
    "sid = SentimentIntensityAnalyzer()         #  create instance of sentiment intensity analyzer"
   ]
  },
  {
   "cell_type": "code",
   "execution_count": 24,
   "metadata": {},
   "outputs": [
    {
     "name": "stdout",
     "output_type": "stream",
     "text": [
      "sid polarity score =  {'neg': 0.09, 'neu': 0.744, 'pos': 0.166, 'compound': 0.9961}\n"
     ]
    },
    {
     "data": {
      "text/plain": [
       "0.9961"
      ]
     },
     "execution_count": 24,
     "metadata": {},
     "output_type": "execute_result"
    }
   ],
   "source": [
    "print ('sid polarity score = ', sid.polarity_scores(dp_final))\n",
    "sid.polarity_scores(dp_final)['compound']    #extract the sentiment value from the dictionary of scores"
   ]
  },
  {
   "cell_type": "markdown",
   "metadata": {},
   "source": [
    "###  Insights\n",
    "Overall the dancing princess passage is positive"
   ]
  }
 ],
 "metadata": {
  "kernelspec": {
   "display_name": "Python 3",
   "language": "python",
   "name": "python3"
  },
  "language_info": {
   "codemirror_mode": {
    "name": "ipython",
    "version": 3
   },
   "file_extension": ".py",
   "mimetype": "text/x-python",
   "name": "python",
   "nbconvert_exporter": "python",
   "pygments_lexer": "ipython3",
   "version": "3.7.1"
  }
 },
 "nbformat": 4,
 "nbformat_minor": 2
}
