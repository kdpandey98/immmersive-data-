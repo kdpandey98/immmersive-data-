{
 "cells": [
  {
   "cell_type": "markdown",
   "metadata": {},
   "source": [
    "## Text Analysis (with Vader) Women's Clothing Review\n",
    "### Kiran Pandey April 27, 2019\n",
    "\n",
    "Function to analyze a \"Text\" column in a dataframe and calcualte a setiment score\n",
    "\n",
    "\n",
    "and calculate a sentiment value. Make a new column in the dataframe that will contain the sentiment value for each review.Append a new column for sentiment value of each review in the women's e-commerce clothing reviews.\n",
    "Source : Download the csv file for  (Links to an external site.)Links to an external site. from Kaggle. \n",
    "\n",
    "Input source:  https://www.kaggle.com/nicapotato/womens-ecommerce-clothing-reviews\n",
    "\n",
    "Output : dataframe of clothing reviews with a sentiment category and sentiment value score."
   ]
  },
  {
   "cell_type": "markdown",
   "metadata": {},
   "source": [
    "## libraries used"
   ]
  },
  {
   "cell_type": "code",
   "execution_count": 25,
   "metadata": {},
   "outputs": [],
   "source": [
    "import pandas as pd\n",
    "import numpy as np\n",
    "\n",
    "import nltk\n",
    "from nltk.tokenize import word_tokenize\n",
    "\n",
    "from nltk.probability import FreqDist\n",
    "from nltk.corpus import stopwords\n",
    "from nltk.stem import WordNetLemmatizer\n",
    "from nltk.sentiment.vader import SentimentIntensityAnalyzer\n",
    "\n",
    "from string import punctuation"
   ]
  },
  {
   "cell_type": "markdown",
   "metadata": {},
   "source": [
    "## Function definitions "
   ]
  },
  {
   "cell_type": "code",
   "execution_count": 26,
   "metadata": {},
   "outputs": [],
   "source": [
    "def clean_str (in_str,dbg=False):\n",
    "    ''' returns string in lower case and punctuation removed'''\n",
    "    cln_str = in_str.lower()                                   # change all the words to lowercase\n",
    "    if dbg: cln_str[0:400]\n",
    "    translator = cln_str.maketrans('‘’', '  ', punctuation)    # create dictionary to remap punctuation to none, add ‘’ also to list\n",
    "    cln_str = cln_str.translate(translator)                      # strip all puctuation\n",
    "    if dbg: cln_str[0:400]      \n",
    "    return cln_str"
   ]
  },
  {
   "cell_type": "code",
   "execution_count": 27,
   "metadata": {},
   "outputs": [],
   "source": [
    "def lem_strls (strls,pos):\n",
    "    ''' return lemmatized string list using chosen part of speech'''\n",
    "    wnl = WordNetLemmatizer()      # create instance of wordnetlemmatizer\n",
    "    pos = 'v'\n",
    "    lem_words = []\n",
    "    for word in strls:\n",
    "        lem_words.append(wnl.lemmatize(word, pos))  #lemmatize using lem_opt part-of-speech               \n",
    "    return  lem_words  "
   ]
  },
  {
   "cell_type": "code",
   "execution_count": 28,
   "metadata": {},
   "outputs": [],
   "source": [
    "def rev_sent(in_str,lem_opts='',dbg=False):\n",
    "    ''' compute sentiment polarity of text \n",
    "        by default lemmatizes verbs, nouns and adjectives'''\n",
    "\n",
    "    tkns = word_tokenize(clean_str(in_str))    # tokenize cleaned text\n",
    "    \n",
    "    if dbg: rem_tkns = []                     # placeholder for removed words\n",
    "\n",
    "    cln_tkns = []                             # placeholder for clean words  \n",
    "    for tkn in tkns:                          # remove filler words\n",
    "        if tkn not in stopwords.words('english'):  \n",
    "            cln_tkns.append(tkn)            \n",
    "        else: \n",
    "            if dbg: rem_tkns.append(tkn)        # capture removed words if dbg\n",
    "      \n",
    "    lem_tkns = cln_tkns  \n",
    "    for lem_opt in lem_opts:                    # loop thorough selected parts of speech and lemmtize \n",
    "        lems_tkns = lems_strls(lem_tkns,lem_opt)\n",
    "                   \n",
    "    final_str = \" \".join(lem_tkns)              # convert final word list to a single string   \n",
    "\n",
    "    sid = SentimentIntensityAnalyzer()          #  create instance of sentiment intensity analyzer\n",
    "    sid_score = sid.polarity_scores(final_str)  #extract the sentiment value from the dictionary of scores\n",
    "   \n",
    "    if dbg:                                     # provide captures diagnostics for debugging\n",
    "        print ('removed word count = ', len(rem_tkns))   # confirm/validate removed words are appropriate\n",
    "        fd_rm = FreqDist(rem_tkns)\n",
    "        print ('no of unique removed words = ', len(rem_tkns))\n",
    "        fd_rm.most_common(15)\n",
    "\n",
    "        print ('new word count = ', len(lem_tkns))       # this is the list of lemmatized words\n",
    "        fd_nw = FreqDist(lemm_a)\n",
    "        print ('no of unique words = ', len(fd_nw))\n",
    "        fd_nw.most_common(15)\n",
    "\n",
    "        for i, tkn in enumerate(lem_tkns):               # list of all new_words and its index \n",
    "            print (i, tkn)\n",
    "        \n",
    "        print ('sid polarity score = ',sid_score)          \n",
    "        return sid_score, rem_tkns, lem_tkns\n",
    "   \n",
    "    return sid_score['compound'] "
   ]
  },
  {
   "cell_type": "code",
   "execution_count": 29,
   "metadata": {},
   "outputs": [],
   "source": [
    "def indx_wrd (in_str, final_str):\n",
    "    ''' return index of all occurences of fianl clean lemmatized string in original string\n",
    "    To be completed '''  \n",
    "    Pass\n",
    "    return "
   ]
  },
  {
   "cell_type": "code",
   "execution_count": 30,
   "metadata": {},
   "outputs": [],
   "source": [
    "#create a function to assign a polarity category to the sentiment\n",
    "def sentimentCategory(sent_num):\n",
    "    if sent_num >= 0.2:\n",
    "        return \"positive\"\n",
    "    if sent_num <= -0.2:\n",
    "        return \"negative\"\n",
    "    else:\n",
    "        return \"neutral\""
   ]
  },
  {
   "cell_type": "code",
   "execution_count": 31,
   "metadata": {},
   "outputs": [],
   "source": [
    "def cat_sent(sent_num,thresh=0.2):\n",
    "    '''Assign a polarity to a sentiment category\n",
    "       TO be debugged --- This function currently does not work \n",
    "    '''\n",
    "    cut_points = [-1,-thresh,thresh,1]\n",
    "    bin_name = [\"negative\",\"neutral\",\"positive\"]\n",
    "    print (cut_points)\n",
    "    print (bin_name)\n",
    "    temp = pd.cut(sent_num,cut_points,retbins=\"True\",labels=bin_name)\n",
    "    print (sent_num.shape)\n",
    "    type(temp)\n",
    "    print (temp)\n",
    "    return temp"
   ]
  },
  {
   "cell_type": "code",
   "execution_count": 32,
   "metadata": {},
   "outputs": [],
   "source": [
    "def exp_df(df,obj=\"False\"):\n",
    "    '''basic data frame exploration \n",
    "    to be completed -- return areas needing futher review'''  \n",
    "    print ('\\nshape: ', df.shape)\n",
    "    print ('\\ncolumns: ',df.dtypes)\n",
    "    print ('\\n',df.describe(include=[np.number]))\n",
    "    if obj: \n",
    "        print ('\\n',df.describe(include=[np.object]))\n",
    "        print ('\\n',df.describe(include=['category']))\n",
    "    return "
   ]
  },
  {
   "cell_type": "markdown",
   "metadata": {},
   "source": [
    "### Main program start here"
   ]
  },
  {
   "cell_type": "code",
   "execution_count": 33,
   "metadata": {},
   "outputs": [],
   "source": [
    "wm_clth_rev = pd.read_csv('../datasets/women_clothing_review.csv', \n",
    "            dtype={'Division Name':'category', 'Department Name':'category','Class Name':'category'})    # read csv file "
   ]
  },
  {
   "cell_type": "code",
   "execution_count": 34,
   "metadata": {},
   "outputs": [],
   "source": [
    "wm_clth_rev= wm_clth_rev[wm_clth_rev['Review Text'].notnull()]  # drop observations with no reviews\n",
    "# wm_clth_rev = wm_clth_rev[:200]"
   ]
  },
  {
   "cell_type": "code",
   "execution_count": 35,
   "metadata": {},
   "outputs": [
    {
     "name": "stdout",
     "output_type": "stream",
     "text": [
      "\n",
      "shape:  (22641, 11)\n",
      "\n",
      "columns:  Unnamed: 0                    int64\n",
      "Clothing ID                   int64\n",
      "Age                           int64\n",
      "Title                        object\n",
      "Review Text                  object\n",
      "Rating                        int64\n",
      "Recommended IND               int64\n",
      "Positive Feedback Count       int64\n",
      "Division Name              category\n",
      "Department Name            category\n",
      "Class Name                 category\n",
      "dtype: object\n",
      "\n",
      "          Unnamed: 0   Clothing ID           Age        Rating  \\\n",
      "count  22641.000000  22641.000000  22641.000000  22641.000000   \n",
      "mean   11740.849035    919.332362     43.280376      4.183561   \n",
      "std     6781.957509    202.266874     12.326980      1.115762   \n",
      "min        0.000000      1.000000     18.000000      1.000000   \n",
      "25%     5872.000000    861.000000     34.000000      4.000000   \n",
      "50%    11733.000000    936.000000     41.000000      5.000000   \n",
      "75%    17621.000000   1078.000000     52.000000      5.000000   \n",
      "max    23485.000000   1205.000000     99.000000      5.000000   \n",
      "\n",
      "       Recommended IND  Positive Feedback Count  \n",
      "count     22641.000000             22641.000000  \n",
      "mean          0.818868                 2.630582  \n",
      "std           0.385136                 5.786164  \n",
      "min           0.000000                 0.000000  \n",
      "25%           1.000000                 0.000000  \n",
      "50%           1.000000                 1.000000  \n",
      "75%           1.000000                 3.000000  \n",
      "max           1.000000               122.000000  \n",
      "\n",
      "            Title                                        Review Text\n",
      "count      19675                                              22641\n",
      "unique     13992                                              22634\n",
      "top     Love it!  Perfect fit and i've gotten so many compliment...\n",
      "freq         136                                                  3\n",
      "\n",
      "        Division Name Department Name Class Name\n",
      "count          22628           22628      22628\n",
      "unique             3               6         20\n",
      "top          General            Tops    Dresses\n",
      "freq           13365           10048       6145\n"
     ]
    }
   ],
   "source": [
    "exp_df(wm_clth_rev,True)         # explore data"
   ]
  },
  {
   "cell_type": "code",
   "execution_count": 36,
   "metadata": {},
   "outputs": [],
   "source": [
    "wm_clth_rev['sent_scr']=wm_clth_rev['Review Text'].apply(rev_sent)"
   ]
  },
  {
   "cell_type": "code",
   "execution_count": 37,
   "metadata": {},
   "outputs": [],
   "source": [
    "#create a new column to hold sentiment category\n",
    "wm_clth_rev['sent_cat'] = wm_clth_rev['sent_scr'].apply(sentimentCategory)\n",
    "\n",
    "# repalce with the following function call with desired threshhold parameter (currnelty does not work)\n",
    "#wm_clth_rev['sent_cat']=wm_clth_rev['sent_scr'].apply(cat_sent,thresh=0.2)"
   ]
  },
  {
   "cell_type": "code",
   "execution_count": 38,
   "metadata": {},
   "outputs": [
    {
     "data": {
      "text/html": [
       "<div>\n",
       "<style scoped>\n",
       "    .dataframe tbody tr th:only-of-type {\n",
       "        vertical-align: middle;\n",
       "    }\n",
       "\n",
       "    .dataframe tbody tr th {\n",
       "        vertical-align: top;\n",
       "    }\n",
       "\n",
       "    .dataframe thead th {\n",
       "        text-align: right;\n",
       "    }\n",
       "</style>\n",
       "<table border=\"1\" class=\"dataframe\">\n",
       "  <thead>\n",
       "    <tr style=\"text-align: right;\">\n",
       "      <th></th>\n",
       "      <th>Unnamed: 0</th>\n",
       "      <th>Clothing ID</th>\n",
       "      <th>Age</th>\n",
       "      <th>Title</th>\n",
       "      <th>Review Text</th>\n",
       "      <th>Rating</th>\n",
       "      <th>Recommended IND</th>\n",
       "      <th>Positive Feedback Count</th>\n",
       "      <th>Division Name</th>\n",
       "      <th>Department Name</th>\n",
       "      <th>Class Name</th>\n",
       "      <th>sent_scr</th>\n",
       "      <th>sent_cat</th>\n",
       "    </tr>\n",
       "  </thead>\n",
       "  <tbody>\n",
       "    <tr>\n",
       "      <th>0</th>\n",
       "      <td>0</td>\n",
       "      <td>767</td>\n",
       "      <td>33</td>\n",
       "      <td>NaN</td>\n",
       "      <td>Absolutely wonderful - silky and sexy and comf...</td>\n",
       "      <td>4</td>\n",
       "      <td>1</td>\n",
       "      <td>0</td>\n",
       "      <td>Initmates</td>\n",
       "      <td>Intimate</td>\n",
       "      <td>Intimates</td>\n",
       "      <td>0.8991</td>\n",
       "      <td>positive</td>\n",
       "    </tr>\n",
       "    <tr>\n",
       "      <th>1</th>\n",
       "      <td>1</td>\n",
       "      <td>1080</td>\n",
       "      <td>34</td>\n",
       "      <td>NaN</td>\n",
       "      <td>Love this dress!  it's sooo pretty.  i happene...</td>\n",
       "      <td>5</td>\n",
       "      <td>1</td>\n",
       "      <td>4</td>\n",
       "      <td>General</td>\n",
       "      <td>Dresses</td>\n",
       "      <td>Dresses</td>\n",
       "      <td>0.9710</td>\n",
       "      <td>positive</td>\n",
       "    </tr>\n",
       "    <tr>\n",
       "      <th>2</th>\n",
       "      <td>2</td>\n",
       "      <td>1077</td>\n",
       "      <td>60</td>\n",
       "      <td>Some major design flaws</td>\n",
       "      <td>I had such high hopes for this dress and reall...</td>\n",
       "      <td>3</td>\n",
       "      <td>0</td>\n",
       "      <td>0</td>\n",
       "      <td>General</td>\n",
       "      <td>Dresses</td>\n",
       "      <td>Dresses</td>\n",
       "      <td>0.9062</td>\n",
       "      <td>positive</td>\n",
       "    </tr>\n",
       "    <tr>\n",
       "      <th>3</th>\n",
       "      <td>3</td>\n",
       "      <td>1049</td>\n",
       "      <td>50</td>\n",
       "      <td>My favorite buy!</td>\n",
       "      <td>I love, love, love this jumpsuit. it's fun, fl...</td>\n",
       "      <td>5</td>\n",
       "      <td>1</td>\n",
       "      <td>0</td>\n",
       "      <td>General Petite</td>\n",
       "      <td>Bottoms</td>\n",
       "      <td>Pants</td>\n",
       "      <td>0.9464</td>\n",
       "      <td>positive</td>\n",
       "    </tr>\n",
       "    <tr>\n",
       "      <th>4</th>\n",
       "      <td>4</td>\n",
       "      <td>847</td>\n",
       "      <td>47</td>\n",
       "      <td>Flattering shirt</td>\n",
       "      <td>This shirt is very flattering to all due to th...</td>\n",
       "      <td>5</td>\n",
       "      <td>1</td>\n",
       "      <td>6</td>\n",
       "      <td>General</td>\n",
       "      <td>Tops</td>\n",
       "      <td>Blouses</td>\n",
       "      <td>0.9062</td>\n",
       "      <td>positive</td>\n",
       "    </tr>\n",
       "  </tbody>\n",
       "</table>\n",
       "</div>"
      ],
      "text/plain": [
       "   Unnamed: 0  Clothing ID  Age                    Title  \\\n",
       "0           0          767   33                      NaN   \n",
       "1           1         1080   34                      NaN   \n",
       "2           2         1077   60  Some major design flaws   \n",
       "3           3         1049   50         My favorite buy!   \n",
       "4           4          847   47         Flattering shirt   \n",
       "\n",
       "                                         Review Text  Rating  Recommended IND  \\\n",
       "0  Absolutely wonderful - silky and sexy and comf...       4                1   \n",
       "1  Love this dress!  it's sooo pretty.  i happene...       5                1   \n",
       "2  I had such high hopes for this dress and reall...       3                0   \n",
       "3  I love, love, love this jumpsuit. it's fun, fl...       5                1   \n",
       "4  This shirt is very flattering to all due to th...       5                1   \n",
       "\n",
       "   Positive Feedback Count   Division Name Department Name Class Name  \\\n",
       "0                        0       Initmates        Intimate  Intimates   \n",
       "1                        4         General         Dresses    Dresses   \n",
       "2                        0         General         Dresses    Dresses   \n",
       "3                        0  General Petite         Bottoms      Pants   \n",
       "4                        6         General            Tops    Blouses   \n",
       "\n",
       "   sent_scr  sent_cat  \n",
       "0    0.8991  positive  \n",
       "1    0.9710  positive  \n",
       "2    0.9062  positive  \n",
       "3    0.9464  positive  \n",
       "4    0.9062  positive  "
      ]
     },
     "execution_count": 38,
     "metadata": {},
     "output_type": "execute_result"
    }
   ],
   "source": [
    "wm_clth_rev.head()"
   ]
  },
  {
   "cell_type": "code",
   "execution_count": 39,
   "metadata": {},
   "outputs": [
    {
     "data": {
      "text/plain": [
       "positive    21329\n",
       "neutral       749\n",
       "negative      563\n",
       "Name: sent_cat, dtype: int64"
      ]
     },
     "execution_count": 39,
     "metadata": {},
     "output_type": "execute_result"
    }
   ],
   "source": [
    "wm_clth_rev['sent_cat'].value_counts()"
   ]
  }
 ],
 "metadata": {
  "kernelspec": {
   "display_name": "Python 3",
   "language": "python",
   "name": "python3"
  },
  "language_info": {
   "codemirror_mode": {
    "name": "ipython",
    "version": 3
   },
   "file_extension": ".py",
   "mimetype": "text/x-python",
   "name": "python",
   "nbconvert_exporter": "python",
   "pygments_lexer": "ipython3",
   "version": "3.7.1"
  }
 },
 "nbformat": 4,
 "nbformat_minor": 2
}
